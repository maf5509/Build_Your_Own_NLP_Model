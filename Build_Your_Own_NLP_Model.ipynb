{
 "cells": [
  {
   "cell_type": "code",
   "execution_count": 1,
   "metadata": {
    "collapsed": true
   },
   "outputs": [],
   "source": [
    "import pandas as pd\n",
    "import nltk\n",
    "#nltk.download()\n",
    "from nltk.corpus import gutenberg\n",
    "from sklearn.model_selection import train_test_split"
   ]
  },
  {
   "cell_type": "code",
   "execution_count": 2,
   "metadata": {},
   "outputs": [
    {
     "name": "stdout",
     "output_type": "stream",
     "text": [
      "['austen-emma.txt', 'austen-persuasion.txt', 'austen-sense.txt', 'bible-kjv.txt', 'blake-poems.txt', 'bryant-stories.txt', 'burgess-busterbrown.txt', 'carroll-alice.txt', 'chesterton-ball.txt', 'chesterton-brown.txt', 'chesterton-thursday.txt', 'edgeworth-parents.txt', 'melville-moby_dick.txt', 'milton-paradise.txt', 'shakespeare-caesar.txt', 'shakespeare-hamlet.txt', 'shakespeare-macbeth.txt', 'whitman-leaves.txt']\n"
     ]
    }
   ],
   "source": [
    "print(gutenberg.fileids())"
   ]
  },
  {
   "cell_type": "markdown",
   "metadata": {},
   "source": [
    "## The Task\n",
    "- The aim of this project to determine features for chosen texts using two Natural Language Processing approaches: Bag of Words, and tf-idf. We will then use supervised learning models to distinguish between the texts and find out whether one or both NLP models work effectively to distinguish one body of text from another. The corpora to be used: 20th and 21st century US presidential inaugural speeches. We will see whether these models can reliably be used to determine whether a speech was delivered by a Republican or a Democrat."
   ]
  },
  {
   "cell_type": "code",
   "execution_count": 3,
   "metadata": {
    "scrolled": true
   },
   "outputs": [
    {
     "name": "stdout",
     "output_type": "stream",
     "text": [
      "['1789-Washington.txt', '1793-Washington.txt', '1797-Adams.txt', '1801-Jefferson.txt', '1805-Jefferson.txt', '1809-Madison.txt', '1813-Madison.txt', '1817-Monroe.txt', '1821-Monroe.txt', '1825-Adams.txt', '1829-Jackson.txt', '1833-Jackson.txt', '1837-VanBuren.txt', '1841-Harrison.txt', '1845-Polk.txt', '1849-Taylor.txt', '1853-Pierce.txt', '1857-Buchanan.txt', '1861-Lincoln.txt', '1865-Lincoln.txt', '1869-Grant.txt', '1873-Grant.txt', '1877-Hayes.txt', '1881-Garfield.txt', '1885-Cleveland.txt', '1889-Harrison.txt', '1893-Cleveland.txt', '1897-McKinley.txt', '1901-McKinley.txt', '1905-Roosevelt.txt', '1909-Taft.txt', '1913-Wilson.txt', '1917-Wilson.txt', '1921-Harding.txt', '1925-Coolidge.txt', '1929-Hoover.txt', '1933-Roosevelt.txt', '1937-Roosevelt.txt', '1941-Roosevelt.txt', '1945-Roosevelt.txt', '1949-Truman.txt', '1953-Eisenhower.txt', '1957-Eisenhower.txt', '1961-Kennedy.txt', '1965-Johnson.txt', '1969-Nixon.txt', '1973-Nixon.txt', '1977-Carter.txt', '1981-Reagan.txt', '1985-Reagan.txt', '1989-Bush.txt', '1993-Clinton.txt', '1997-Clinton.txt', '2001-Bush.txt', '2005-Bush.txt', '2009-Obama.txt']\n"
     ]
    }
   ],
   "source": [
    "from nltk.corpus import inaugural\n",
    "print(inaugural.fileids())"
   ]
  },
  {
   "cell_type": "code",
   "execution_count": 4,
   "metadata": {
    "collapsed": true
   },
   "outputs": [],
   "source": [
    "dem = ['1913-Wilson.txt', '1917-Wilson.txt', '1933-Roosevelt.txt', \n",
    "       '1937-Roosevelt.txt', '1941-Roosevelt.txt', '1945-Roosevelt.txt', \n",
    "       '1949-Truman.txt', '1957-Eisenhower.txt', '1961-Kennedy.txt', \n",
    "       '1965-Johnson.txt', '1977-Carter.txt', '1993-Clinton.txt', \n",
    "       '1997-Clinton.txt', '2009-Obama.txt']"
   ]
  },
  {
   "cell_type": "code",
   "execution_count": 5,
   "metadata": {
    "collapsed": true
   },
   "outputs": [],
   "source": [
    "rep = ['1897-McKinley.txt', '1901-McKinley.txt', '1905-Roosevelt.txt', \n",
    "       '1909-Taft.txt', '1921-Harding.txt', '1925-Coolidge.txt', \n",
    "       '1929-Hoover.txt', '1953-Eisenhower.txt', '1957-Eisenhower.txt', \n",
    "       '1969-Nixon.txt', '1973-Nixon.txt', '1981-Reagan.txt', \n",
    "       '1985-Reagan.txt', '1989-Bush.txt', '2001-Bush.txt', '2005-Bush.txt']"
   ]
  },
  {
   "cell_type": "code",
   "execution_count": 6,
   "metadata": {
    "collapsed": true
   },
   "outputs": [],
   "source": [
    "demwords = {}\n",
    "for (i,speech) in enumerate(dem):\n",
    "    demwords['dem' + str(i)] = inaugural.raw(speech)"
   ]
  },
  {
   "cell_type": "code",
   "execution_count": 7,
   "metadata": {},
   "outputs": [
    {
     "data": {
      "text/plain": [
       "14"
      ]
     },
     "execution_count": 7,
     "metadata": {},
     "output_type": "execute_result"
    }
   ],
   "source": [
    "len(demwords)"
   ]
  },
  {
   "cell_type": "code",
   "execution_count": 8,
   "metadata": {
    "collapsed": true
   },
   "outputs": [],
   "source": [
    "repwords = {}\n",
    "for (i,speech) in enumerate(rep):\n",
    "    repwords['rep' + str(i)] = inaugural.raw(speech)"
   ]
  },
  {
   "cell_type": "code",
   "execution_count": 9,
   "metadata": {},
   "outputs": [
    {
     "data": {
      "text/plain": [
       "16"
      ]
     },
     "execution_count": 9,
     "metadata": {},
     "output_type": "execute_result"
    }
   ],
   "source": [
    "len(repwords)"
   ]
  },
  {
   "cell_type": "code",
   "execution_count": 10,
   "metadata": {},
   "outputs": [
    {
     "data": {
      "text/plain": [
       "'Vice President Johnson, Mr. Speaker, Mr. Chief Justice, President Eisenhower, Vice President Nixon, President Truman, reverend clergy, fellow citizens, we observe today not a victory of party, but a celebration of freedom -- symbolizing an end, as well as a beginning -- signifying renewal, as well as change. For I have sworn I before you and Almighty God the same solemn oath our forebears l prescribed nearly a century and three quarters ago.\\n\\nThe world is very different now. For man holds in his mortal hands the power to abolish all forms of human poverty and all forms of human life. And yet the same revolutionary beliefs for which our forebears fought are still at issue around the globe -- the belief that the rights of man come not from the generosity of the state, but from the hand of God.\\n\\nWe dare not forget today that we are the heirs of that first revolution. Let the word go forth from this time and place, to friend and foe alike, that the torch has been passed to a new generation of Americans -- born in this century, tempered by war, disciplined by a hard and bitter peace, proud of our ancient heritage -- and unwilling to witness or permit the slow undoing of those human rights to which this Nation has always been committed, and to which we are committed today at home and around the world.\\n\\nLet every nation know, whether it wishes us well or ill, that we shall pay any price, bear any burden, meet any hardship, support any friend, oppose any foe, in order to assure the survival and the success of liberty.\\n\\nThis much we pledge -- and more.\\n\\nTo those old allies whose cultural and spiritual origins we share, we pledge the loyalty of faithful friends. United, there is little we cannot do in a host of cooperative ventures. Divided, there is little we can do -- for we dare not meet a powerful challenge at odds and split asunder.\\n\\nTo those new States whom we welcome to the ranks of the free, we pledge our word that one form of colonial control shall not have passed away merely to be replaced by a far more iron tyranny. We shall not always expect to find them supporting our view. But we shall always hope to find them strongly supporting their own freedom -- and to remember that, in the past, those who foolishly sought power by riding the back of the tiger ended up inside.\\n\\nTo those peoples in the huts and villages across the globe struggling to break the bonds of mass misery, we pledge our best efforts to help them help themselves, for whatever period is required -- not because the Communists may be doing it, not because we seek their votes, but because it is right. If a free society cannot help the many who are poor, it cannot save the few who are rich.\\n\\nTo our sister republics south of our border, we offer a special pledge -- to convert our good words into good deeds -- in a new alliance for progress -- to assist free men and free governments in casting off the chains of poverty. But this peaceful revolution of hope cannot become the prey of hostile powers. Let all our neighbors know that we shall join with them to oppose aggression or subversion anywhere in the Americas. And let every other power know that this Hemisphere intends to remain the master of its own house.\\n\\nTo that world assembly of sovereign states, the United Nations, our last best hope in an age where the instruments of war have far outpaced the instruments of peace, we renew our pledge of support--to prevent it from becoming merely a forum for invective -- to strengthen its shield of the new and the weak -- and to enlarge the area in which its writ may run.\\n\\nFinally, to those nations who would make themselves our adversary, we offer not a pledge but a request: that both sides begin anew the quest for peace, before the dark powers of destruction unleashed by science engulf all humanity in planned or accidental self-destruction.\\n\\nWe dare not tempt them with weakness. For only when our arms are sufficient beyond doubt can we be certain beyond doubt that they will never be employed.\\n\\nBut neither can two great and powerful groups of nations take comfort from our present course -- both sides overburdened by the cost of modern weapons, both rightly alarmed by the steady spread of the deadly atom, yet both racing to alter that uncertain balance of terror that stays the hand of mankind\\'s final war.\\n\\nSo let us begin anew -- remembering on both sides that civility is not a sign of weakness, and sincerity is always subject to proof. Let us never negotiate out of fear. But let us never fear to negotiate.\\n\\nLet both sides explore what problems unite us instead of belaboring those problems which divide us.\\n\\nLet both sides, for the first time, formulate serious and precise proposals for the inspection and control of arms -- and bring the absolute power to destroy other nations under the absolute control of all nations.\\n\\nLet both sides seek to invoke the wonders of science instead of its terrors. Together let us explore the stars, conquer the deserts, eradicate disease, tap the ocean depths, and encourage the arts and commerce.\\n\\nLet both sides unite to heed in all corners of the earth the command of Isaiah -- to \"undo the heavy burdens ... and to let the oppressed go free.\"\\n\\nAnd if a beachhead of cooperation may push back the jungle of suspicion, let both sides join in creating a new endeavor, not a new balance of power, but a new world of law, where the strong are just and the weak secure and the peace preserved.\\n\\nAll this will not be finished in the first 100 days. Nor will it be finished in the first 1,000 days, nor in the life of this Administration, nor even perhaps in our lifetime on this planet. But let us begin.\\n\\nIn your hands, my fellow citizens, more than in mine, will rest the final success or failure of our course. Since this country was founded, each generation of Americans has been summoned to give testimony to its national loyalty. The graves of young Americans who answered the call to service surround the globe.\\n\\nNow the trumpet summons us again -- not as a call to bear arms, though arms we need; not as a call to battle, though embattled we are -- but a call to bear the burden of a long twilight struggle, year in and year out, \"rejoicing in hope, patient in tribulation\" -- a struggle against the common enemies of man: tyranny, poverty, disease, and war itself.\\n\\nCan we forge against these enemies a grand and global alliance, North and South, East and West, that can assure a more fruitful life for all mankind? Will you join in that historic effort?\\n\\nIn the long history of the world, only a few generations have been granted the role of defending freedom in its hour of maximum danger. I do not shrink from this responsibility -- I welcome it. I do not believe that any of us would exchange places with any other people or any other generation. The energy, the faith, the devotion which we bring to this endeavor will light our country and all who serve it -- and the glow from that fire can truly light the world.\\n\\nAnd so, my fellow Americans: ask not what your country can do for you -- ask what you can do for your country.\\n\\nMy fellow citizens of the world: ask not what America will do for you, but what together we can do for the freedom of man.\\n\\nFinally, whether you are citizens of America or citizens of the world, ask of us the same high standards of strength and sacrifice which we ask of you. With a good conscience our only sure reward, with history the final judge of our deeds, let us go forth to lead the land we love, asking His blessing and His help, but knowing that here on earth God\\'s work must truly be our own.\\n'"
      ]
     },
     "execution_count": 10,
     "metadata": {},
     "output_type": "execute_result"
    }
   ],
   "source": [
    "demwords['dem8']"
   ]
  },
  {
   "cell_type": "code",
   "execution_count": 11,
   "metadata": {
    "collapsed": true
   },
   "outputs": [],
   "source": [
    "import re\n",
    "for key in demwords:\n",
    "    demwords[key] = re.sub(r'--',' ',demwords[key])\n",
    "    demwords[key] = ' '.join(demwords[key].split())\n",
    "for key in repwords:\n",
    "    repwords[key] = re.sub(r'--',' ',repwords[key])\n",
    "    repwords[key] = ' '.join(repwords[key].split())"
   ]
  },
  {
   "cell_type": "code",
   "execution_count": 12,
   "metadata": {
    "collapsed": true
   },
   "outputs": [],
   "source": [
    "from nltk.corpus import stopwords"
   ]
  },
  {
   "cell_type": "code",
   "execution_count": 13,
   "metadata": {},
   "outputs": [
    {
     "name": "stdout",
     "output_type": "stream",
     "text": [
      "['i', 'me', 'my', 'myself', 'we', 'our', 'ours', 'ourselves', 'you', \"you're\", \"you've\", \"you'll\", \"you'd\", 'your', 'yours', 'yourself', 'yourselves', 'he', 'him', 'his', 'himself', 'she', \"she's\", 'her', 'hers', 'herself', 'it', \"it's\", 'its', 'itself', 'they', 'them', 'their', 'theirs', 'themselves', 'what', 'which', 'who', 'whom', 'this', 'that', \"that'll\", 'these', 'those', 'am', 'is', 'are', 'was', 'were', 'be', 'been', 'being', 'have', 'has', 'had', 'having', 'do', 'does', 'did', 'doing', 'a', 'an', 'the', 'and', 'but', 'if', 'or', 'because', 'as', 'until', 'while', 'of', 'at', 'by', 'for', 'with', 'about', 'against', 'between', 'into', 'through', 'during', 'before', 'after', 'above', 'below', 'to', 'from', 'up', 'down', 'in', 'out', 'on', 'off', 'over', 'under', 'again', 'further', 'then', 'once', 'here', 'there', 'when', 'where', 'why', 'how', 'all', 'any', 'both', 'each', 'few', 'more', 'most', 'other', 'some', 'such', 'no', 'nor', 'not', 'only', 'own', 'same', 'so', 'than', 'too', 'very', 's', 't', 'can', 'will', 'just', 'don', \"don't\", 'should', \"should've\", 'now', 'd', 'll', 'm', 'o', 're', 've', 'y', 'ain', 'aren', \"aren't\", 'couldn', \"couldn't\", 'didn', \"didn't\", 'doesn', \"doesn't\", 'hadn', \"hadn't\", 'hasn', \"hasn't\", 'haven', \"haven't\", 'isn', \"isn't\", 'ma', 'mightn', \"mightn't\", 'mustn', \"mustn't\", 'needn', \"needn't\", 'shan', \"shan't\", 'shouldn', \"shouldn't\", 'wasn', \"wasn't\", 'weren', \"weren't\", 'won', \"won't\", 'wouldn', \"wouldn't\"]\n"
     ]
    }
   ],
   "source": [
    "print(stopwords.words('english'))"
   ]
  },
  {
   "cell_type": "code",
   "execution_count": 14,
   "metadata": {},
   "outputs": [
    {
     "name": "stdout",
     "output_type": "stream",
     "text": [
      "time taken: 0.2 minutes.\n"
     ]
    }
   ],
   "source": [
    "import spacy\n",
    "import time\n",
    "nlp = spacy.load('en')\n",
    "\n",
    "start_time = time.time()\n",
    "# All the processing work is done here, so it may take a while.\n",
    "dem_full = ''\n",
    "rep_full = ''\n",
    "\n",
    "for key in demwords:\n",
    "    dem_full += (' ' + str(key) + ' ' + demwords[key])\n",
    "for key in repwords:\n",
    "    rep_full += (' ' + str(key) + ' ' + repwords[key])\n",
    "\n",
    "dem_doc = nlp(dem_full)\n",
    "interval = time.time() - start_time\n",
    "print('time taken: {} minutes.'.format('%.1f' % (interval / 60)))"
   ]
  },
  {
   "cell_type": "code",
   "execution_count": 15,
   "metadata": {},
   "outputs": [
    {
     "data": {
      "text/plain": [
       "1"
      ]
     },
     "execution_count": 15,
     "metadata": {},
     "output_type": "execute_result"
    }
   ],
   "source": [
    "dem_full.index('dem0')"
   ]
  },
  {
   "cell_type": "code",
   "execution_count": 16,
   "metadata": {},
   "outputs": [
    {
     "name": "stdout",
     "output_type": "stream",
     "text": [
      "time taken: 0.6 minutes.\n"
     ]
    }
   ],
   "source": [
    "start_time = time.time()\n",
    "rep_doc = nlp(rep_full)\n",
    "interval = time.time() - start_time\n",
    "print('time taken: {} minutes.'.format('%.1f' % (interval / 60)))"
   ]
  },
  {
   "cell_type": "code",
   "execution_count": 19,
   "metadata": {
    "collapsed": true
   },
   "outputs": [],
   "source": [
    "dem_sents = [[sent, \"dem\"] for sent in dem_doc.sents]\n",
    "rep_sents = [[sent, \"rep\"] for sent in rep_doc.sents]\n",
    "all_sents = dem_sents + rep_sents"
   ]
  },
  {
   "cell_type": "code",
   "execution_count": 24,
   "metadata": {
    "collapsed": true
   },
   "outputs": [],
   "source": [
    "import pandas as pd\n",
    "sentences = pd.DataFrame()\n",
    "sentences[0] = [sent[0] for sent in all_sents]\n",
    "sentences[1] = [sent[1] for sent in all_sents]"
   ]
  },
  {
   "cell_type": "code",
   "execution_count": 25,
   "metadata": {},
   "outputs": [
    {
     "data": {
      "text/plain": [
       "'dem'"
      ]
     },
     "execution_count": 25,
     "metadata": {},
     "output_type": "execute_result"
    }
   ],
   "source": [
    "sentences[1][0]"
   ]
  },
  {
   "cell_type": "code",
   "execution_count": 100,
   "metadata": {},
   "outputs": [
    {
     "name": "stdout",
     "output_type": "stream",
     "text": [
      "Time taken: 0.5485620498657227 seconds.\n"
     ]
    }
   ],
   "source": [
    "sentences[2] = ['' for i in range(0, len(sentences[0]))]\n",
    "sentences[2][0] = str(sentences[0][0][1])\n",
    "start_time = time.time()\n",
    "for i in range(1, len(sentences[0])):\n",
    "    if str(sentences[0][i][0]).startswith('dem') or str(sentences[0][i][0]).startswith('rep'):\n",
    "        sentences[2][i] = str(sentences[0][i][0])\n",
    "    else:\n",
    "        sentences[2][i] = str(sentences[2][i-1])\n",
    "print('Time taken: {} seconds.'.format(time.time() - start_time))"
   ]
  },
  {
   "cell_type": "code",
   "execution_count": 101,
   "metadata": {},
   "outputs": [
    {
     "data": {
      "text/plain": [
       "dem13    245\n",
       "rep5     197\n",
       "rep6     170\n",
       "rep3     161\n",
       "dem9     150\n",
       "rep4     150\n",
       "rep13    144\n",
       "rep11    130\n",
       "rep12    129\n",
       "rep7     121\n",
       "dem6     116\n",
       "rep15    115\n",
       "dem12    114\n",
       "rep9     104\n",
       "rep1     101\n",
       "dem3      97\n",
       "rep14     97\n",
       "rep8      94\n",
       "dem7      94\n",
       "dem2      86\n",
       "dem11     82\n",
       "rep10     70\n",
       "dem4      70\n",
       "dem0      69\n",
       "dem1      61\n",
       "dem8      53\n",
       "rep2      34\n",
       "dem5      26\n",
       "Name: 2, dtype: int64"
      ]
     },
     "execution_count": 101,
     "metadata": {},
     "output_type": "execute_result"
    }
   ],
   "source": [
    "sentences[2].value_counts()"
   ]
  },
  {
   "cell_type": "markdown",
   "metadata": {},
   "source": [
    "## 1. Bag of Words Approach"
   ]
  },
  {
   "cell_type": "code",
   "execution_count": 145,
   "metadata": {},
   "outputs": [],
   "source": [
    "from collections import Counter\n",
    "\n",
    "# Utility function to create a list of the 2000 most common words.\n",
    "def bag_of_words(text):\n",
    "    \n",
    "    # Filter out punctuation and stop words.\n",
    "    allwords = [token.lemma_\n",
    "                for token in text\n",
    "                if not token.is_punct\n",
    "                and not token.is_stop]\n",
    "    \n",
    "    # Return the most common words.\n",
    "    return [item[0] for item in Counter(allwords).most_common(2000)]\n",
    "    \n",
    "\n",
    "# Creates a data frame with features for each word in our common word set.\n",
    "# Each value is the count of the times the word appears in each sentence.\n",
    "def bow_features(sentences, common_words):\n",
    "    \n",
    "    # Scaffold the data frame and initialize counts to zero.\n",
    "    df = pd.DataFrame(columns=common_words)\n",
    "    df['text_sentence'] = sentences[0]\n",
    "    df['text_party'] = sentences[1]\n",
    "    df['which_speech'] = sentences[2]\n",
    "    df.loc[:, common_words] = 0\n",
    "    \n",
    "  # Process each row, counting the occurrence of words in each sentence.\n",
    "    for i, sentence in enumerate(df['text_sentence']):\n",
    "        \n",
    "        # Convert the sentence to lemmas, then filter out punctuation,\n",
    "        # stop words, and uncommon words.\n",
    "        words = [token.lemma_\n",
    "                 for token in sentence\n",
    "                 if (\n",
    "                     not token.is_punct\n",
    "                     and not token.is_stop\n",
    "                     and token.lemma_ in common_words\n",
    "                 )]\n",
    "        \n",
    "        # Populate the row with word counts.\n",
    "        for word in words:\n",
    "            df.loc[i, word] += 1\n",
    "        \n",
    "        # This counter is just to make sure the kernel didn't hang.\n",
    "        if i % 500 == 0:\n",
    "            print(\"Processing row {}\".format(i))\n",
    "            \n",
    "    return df\n",
    "\n",
    "# Set up the bags.\n",
    "demowords = bag_of_words(dem_doc)\n",
    "repuwords = bag_of_words(rep_doc)\n",
    "\n",
    "# Combine bags to create a set of unique words.\n",
    "common_words = set(repuwords + demowords)    "
   ]
  },
  {
   "cell_type": "code",
   "execution_count": 103,
   "metadata": {},
   "outputs": [
    {
     "name": "stdout",
     "output_type": "stream",
     "text": [
      "Processing row 0\n",
      "Processing row 500\n",
      "Processing row 1000\n",
      "Processing row 1500\n",
      "Processing row 2000\n",
      "Processing row 2500\n",
      "Processing row 3000\n"
     ]
    },
    {
     "data": {
      "text/html": [
       "<div>\n",
       "<style>\n",
       "    .dataframe thead tr:only-child th {\n",
       "        text-align: right;\n",
       "    }\n",
       "\n",
       "    .dataframe thead th {\n",
       "        text-align: left;\n",
       "    }\n",
       "\n",
       "    .dataframe tbody tr th {\n",
       "        vertical-align: top;\n",
       "    }\n",
       "</style>\n",
       "<table border=\"1\" class=\"dataframe\">\n",
       "  <thead>\n",
       "    <tr style=\"text-align: right;\">\n",
       "      <th></th>\n",
       "      <th>space</th>\n",
       "      <th>negroes</th>\n",
       "      <th>pursuit</th>\n",
       "      <th>neighborhood</th>\n",
       "      <th>ample</th>\n",
       "      <th>fine</th>\n",
       "      <th>shallow</th>\n",
       "      <th>rights</th>\n",
       "      <th>kind</th>\n",
       "      <th>generous</th>\n",
       "      <th>...</th>\n",
       "      <th>person</th>\n",
       "      <th>porto</th>\n",
       "      <th>golden</th>\n",
       "      <th>cast</th>\n",
       "      <th>emphasize</th>\n",
       "      <th>practice</th>\n",
       "      <th>rid</th>\n",
       "      <th>text_sentence</th>\n",
       "      <th>text_party</th>\n",
       "      <th>which_speech</th>\n",
       "    </tr>\n",
       "  </thead>\n",
       "  <tbody>\n",
       "    <tr>\n",
       "      <th>0</th>\n",
       "      <td>0</td>\n",
       "      <td>0</td>\n",
       "      <td>0</td>\n",
       "      <td>0</td>\n",
       "      <td>0</td>\n",
       "      <td>0</td>\n",
       "      <td>0</td>\n",
       "      <td>0</td>\n",
       "      <td>0</td>\n",
       "      <td>0</td>\n",
       "      <td>...</td>\n",
       "      <td>0</td>\n",
       "      <td>0</td>\n",
       "      <td>0</td>\n",
       "      <td>0</td>\n",
       "      <td>0</td>\n",
       "      <td>0</td>\n",
       "      <td>0</td>\n",
       "      <td>( , dem0)</td>\n",
       "      <td>dem</td>\n",
       "      <td>dem0</td>\n",
       "    </tr>\n",
       "    <tr>\n",
       "      <th>1</th>\n",
       "      <td>0</td>\n",
       "      <td>0</td>\n",
       "      <td>0</td>\n",
       "      <td>0</td>\n",
       "      <td>0</td>\n",
       "      <td>0</td>\n",
       "      <td>0</td>\n",
       "      <td>0</td>\n",
       "      <td>0</td>\n",
       "      <td>0</td>\n",
       "      <td>...</td>\n",
       "      <td>0</td>\n",
       "      <td>0</td>\n",
       "      <td>0</td>\n",
       "      <td>0</td>\n",
       "      <td>0</td>\n",
       "      <td>0</td>\n",
       "      <td>0</td>\n",
       "      <td>(There, has, been, a, change, of, government, .)</td>\n",
       "      <td>dem</td>\n",
       "      <td>dem0</td>\n",
       "    </tr>\n",
       "    <tr>\n",
       "      <th>2</th>\n",
       "      <td>0</td>\n",
       "      <td>0</td>\n",
       "      <td>0</td>\n",
       "      <td>0</td>\n",
       "      <td>0</td>\n",
       "      <td>0</td>\n",
       "      <td>0</td>\n",
       "      <td>0</td>\n",
       "      <td>0</td>\n",
       "      <td>0</td>\n",
       "      <td>...</td>\n",
       "      <td>0</td>\n",
       "      <td>0</td>\n",
       "      <td>0</td>\n",
       "      <td>0</td>\n",
       "      <td>0</td>\n",
       "      <td>0</td>\n",
       "      <td>0</td>\n",
       "      <td>(It, began, two, years, ago, ,, when, the, Hou...</td>\n",
       "      <td>dem</td>\n",
       "      <td>dem0</td>\n",
       "    </tr>\n",
       "    <tr>\n",
       "      <th>3</th>\n",
       "      <td>0</td>\n",
       "      <td>0</td>\n",
       "      <td>0</td>\n",
       "      <td>0</td>\n",
       "      <td>0</td>\n",
       "      <td>0</td>\n",
       "      <td>0</td>\n",
       "      <td>0</td>\n",
       "      <td>0</td>\n",
       "      <td>0</td>\n",
       "      <td>...</td>\n",
       "      <td>0</td>\n",
       "      <td>0</td>\n",
       "      <td>0</td>\n",
       "      <td>0</td>\n",
       "      <td>0</td>\n",
       "      <td>0</td>\n",
       "      <td>0</td>\n",
       "      <td>(It, has, now, been, completed, .)</td>\n",
       "      <td>dem</td>\n",
       "      <td>dem0</td>\n",
       "    </tr>\n",
       "    <tr>\n",
       "      <th>4</th>\n",
       "      <td>0</td>\n",
       "      <td>0</td>\n",
       "      <td>0</td>\n",
       "      <td>0</td>\n",
       "      <td>0</td>\n",
       "      <td>0</td>\n",
       "      <td>0</td>\n",
       "      <td>0</td>\n",
       "      <td>0</td>\n",
       "      <td>0</td>\n",
       "      <td>...</td>\n",
       "      <td>0</td>\n",
       "      <td>0</td>\n",
       "      <td>0</td>\n",
       "      <td>0</td>\n",
       "      <td>0</td>\n",
       "      <td>0</td>\n",
       "      <td>0</td>\n",
       "      <td>(The, Senate, about, to, assemble, will, also,...</td>\n",
       "      <td>dem</td>\n",
       "      <td>dem0</td>\n",
       "    </tr>\n",
       "  </tbody>\n",
       "</table>\n",
       "<p>5 rows × 2796 columns</p>\n",
       "</div>"
      ],
      "text/plain": [
       "  space negroes pursuit neighborhood ample fine shallow rights kind generous  \\\n",
       "0     0       0       0            0     0    0       0      0    0        0   \n",
       "1     0       0       0            0     0    0       0      0    0        0   \n",
       "2     0       0       0            0     0    0       0      0    0        0   \n",
       "3     0       0       0            0     0    0       0      0    0        0   \n",
       "4     0       0       0            0     0    0       0      0    0        0   \n",
       "\n",
       "      ...      person porto golden cast emphasize practice rid  \\\n",
       "0     ...           0     0      0    0         0        0   0   \n",
       "1     ...           0     0      0    0         0        0   0   \n",
       "2     ...           0     0      0    0         0        0   0   \n",
       "3     ...           0     0      0    0         0        0   0   \n",
       "4     ...           0     0      0    0         0        0   0   \n",
       "\n",
       "                                       text_sentence text_party which_speech  \n",
       "0                                          ( , dem0)        dem         dem0  \n",
       "1   (There, has, been, a, change, of, government, .)        dem         dem0  \n",
       "2  (It, began, two, years, ago, ,, when, the, Hou...        dem         dem0  \n",
       "3                 (It, has, now, been, completed, .)        dem         dem0  \n",
       "4  (The, Senate, about, to, assemble, will, also,...        dem         dem0  \n",
       "\n",
       "[5 rows x 2796 columns]"
      ]
     },
     "execution_count": 103,
     "metadata": {},
     "output_type": "execute_result"
    }
   ],
   "source": [
    "# Create our data frame with features. This can take a while to run.\n",
    "word_counts = bow_features(sentences, common_words)\n",
    "word_counts.head()"
   ]
  },
  {
   "cell_type": "code",
   "execution_count": 128,
   "metadata": {
    "collapsed": true
   },
   "outputs": [],
   "source": [
    "# To ensure all speeches are correctly labeled:\n",
    "word_counts['text_party'] = ['rep' if word_counts['which_speech'][i].startswith('rep') else 'dem' \n",
    "                             for i in range(len(word_counts['which_speech']))]"
   ]
  },
  {
   "cell_type": "code",
   "execution_count": 130,
   "metadata": {},
   "outputs": [
    {
     "data": {
      "text/html": [
       "<div>\n",
       "<style>\n",
       "    .dataframe thead tr:only-child th {\n",
       "        text-align: right;\n",
       "    }\n",
       "\n",
       "    .dataframe thead th {\n",
       "        text-align: left;\n",
       "    }\n",
       "\n",
       "    .dataframe tbody tr th {\n",
       "        vertical-align: top;\n",
       "    }\n",
       "</style>\n",
       "<table border=\"1\" class=\"dataframe\">\n",
       "  <thead>\n",
       "    <tr style=\"text-align: right;\">\n",
       "      <th></th>\n",
       "      <th>space</th>\n",
       "      <th>negroes</th>\n",
       "      <th>pursuit</th>\n",
       "      <th>neighborhood</th>\n",
       "      <th>ample</th>\n",
       "      <th>fine</th>\n",
       "      <th>shallow</th>\n",
       "      <th>rights</th>\n",
       "      <th>kind</th>\n",
       "      <th>generous</th>\n",
       "      <th>...</th>\n",
       "      <th>person</th>\n",
       "      <th>porto</th>\n",
       "      <th>golden</th>\n",
       "      <th>cast</th>\n",
       "      <th>emphasize</th>\n",
       "      <th>practice</th>\n",
       "      <th>rid</th>\n",
       "      <th>text_sentence</th>\n",
       "      <th>text_party</th>\n",
       "      <th>which_speech</th>\n",
       "    </tr>\n",
       "  </thead>\n",
       "  <tbody>\n",
       "  </tbody>\n",
       "</table>\n",
       "<p>0 rows × 2796 columns</p>\n",
       "</div>"
      ],
      "text/plain": [
       "Empty DataFrame\n",
       "Columns: [space, negroes, pursuit, neighborhood, ample, fine, shallow, rights, kind, generous, bush, consecrate, liberate, 1789, message, volume, thousand, help, reorganize, mastery, sick, mad, invade, signally, seeker, join, future, sympathy, tear, decade, well, genuine, expect, organize, 16, organic, house, legitimate, effect, anxiety, crowd, meantime, direction, adventure, sell, tolerate, grave, inexhaustible, ¦, office, symbol, fortification, limitless, these, motto, voluntarily, flame, fearless, response, until, dollar, escape, day, art, generation, continuance, restoration, bold, celebration, span, compensation, penalty, disturb, street, outworn, distressed, agriculture, untruth, summon, gross, plead, sky, unnecessary, fever, execution, livelihood, intricacy, defense, reflect, receipt, detailed, janeiro, justice, work, tariff, sphere, precept, confusion, swear, character, ...]\n",
       "Index: []\n",
       "\n",
       "[0 rows x 2796 columns]"
      ]
     },
     "execution_count": 130,
     "metadata": {},
     "output_type": "execute_result"
    }
   ],
   "source": [
    "# rep0 somehow got lost in the shuffle\n",
    "word_counts[word_counts['which_speech'] == 'rep0']"
   ]
  },
  {
   "cell_type": "code",
   "execution_count": 131,
   "metadata": {},
   "outputs": [
    {
     "data": {
      "text/plain": [
       "['dem0',\n",
       " 'dem1',\n",
       " 'dem2',\n",
       " 'dem3',\n",
       " 'dem4',\n",
       " 'dem5',\n",
       " 'dem6',\n",
       " 'dem7',\n",
       " 'dem8',\n",
       " 'dem9',\n",
       " 'dem11',\n",
       " 'dem12',\n",
       " 'dem13',\n",
       " 'rep1',\n",
       " 'rep2',\n",
       " 'rep3',\n",
       " 'rep4',\n",
       " 'rep5',\n",
       " 'rep6',\n",
       " 'rep7',\n",
       " 'rep8',\n",
       " 'rep9',\n",
       " 'rep10',\n",
       " 'rep11',\n",
       " 'rep12',\n",
       " 'rep13',\n",
       " 'rep14',\n",
       " 'rep15']"
      ]
     },
     "execution_count": 131,
     "metadata": {},
     "output_type": "execute_result"
    }
   ],
   "source": [
    "speeches = list(word_counts['which_speech'].unique())\n",
    "speeches"
   ]
  },
  {
   "cell_type": "markdown",
   "metadata": {},
   "source": [
    "## Results\n",
    "\n",
    "The supervised learning results are shown below. Clearly there is no strog relationship between the words used and the party of the presiden who spoek them (at least, no relationship that the BoW and supervised learnings could detect.) Calculated accuracies are mostly not much better than chance. At the end of this section we will try the analysis using the tf-idf approach. "
   ]
  },
  {
   "cell_type": "markdown",
   "metadata": {},
   "source": [
    "### Random Forest Classifier"
   ]
  },
  {
   "cell_type": "code",
   "execution_count": 185,
   "metadata": {},
   "outputs": [
    {
     "name": "stdout",
     "output_type": "stream",
     "text": [
      "(1848, 2791) (1848,)\n",
      "Training set score: 0.968073593074\n",
      "[ 0.5155642   0.50194553  0.4688716   0.40350877  0.53411306  0.4453125 ]\n",
      "\n",
      "Average accuracy of cross-val data (incl. train data): 0.4782\n",
      "SD of accuracy: 0.04441\n",
      "--------------------------------------------------\n",
      "\n",
      " Time taken: 0.1 minutes.\n"
     ]
    }
   ],
   "source": [
    "import numpy as np\n",
    "from sklearn import ensemble\n",
    "\n",
    "from sklearn.model_selection import cross_val_score\n",
    "\n",
    "start_time = time.time()\n",
    "# \n",
    "X = pd.DataFrame(word_counts.drop(['text_sentence','text_party', 'republican', \n",
    "                               'liberal', 'which_speech'], axis=1))\n",
    "Y = word_counts['text_party']\n",
    "rfc = ensemble.RandomForestClassifier()\n",
    "\n",
    "X_train, X_test, y_train, y_test = train_test_split(X, \n",
    "                                                    Y,\n",
    "                                                    test_size=0.4)\n",
    "\n",
    "train = rfc.fit(X_train, y_train)\n",
    "print(X_train.shape, y_train.shape)\n",
    "print('Training set score:', rfc.score(X_train, y_train))\n",
    "\n",
    "# Or could use np.array(Y).reshape(len(Y),) instead of np.array(Y).ravel():\n",
    "score = cross_val_score(rfc, X, np.array(Y).ravel(), cv=6)\n",
    "print(score)\n",
    "print('\\nAverage accuracy of cross-val data (incl. train data): {}'.format('%.4f' %(sum(score)/len(score))))\n",
    "print('SD of accuracy: {}'.format('%.5f' % np.std(score)))\n",
    "print('-' * 50)\n",
    "print('\\n Time taken: {} minutes.'.format('%.1f' % ((time.time() - start_time) / 60)))"
   ]
  },
  {
   "cell_type": "code",
   "execution_count": 186,
   "metadata": {},
   "outputs": [
    {
     "name": "stdout",
     "output_type": "stream",
     "text": [
      "Success rate in predicting party of President:  0.9642857142857143\n"
     ]
    }
   ],
   "source": [
    "success_count = 0\n",
    "for speech in speeches:\n",
    "    x = rfc.predict(X[word_counts['which_speech'] == speech])\n",
    "    countdem = [1 for sentence in x if sentence == 'dem']\n",
    "    fracdem = np.sum(countdem) / len(x)\n",
    "    if fracdem > 0.5 and speech.startswith('dem'):\n",
    "        success_count += 1\n",
    "    elif fracdem < 0.5 and speech.startswith('rep'):\n",
    "        success_count += 1\n",
    "print('Success rate in predicting party of President: ', success_count / len(speeches))"
   ]
  },
  {
   "cell_type": "code",
   "execution_count": 244,
   "metadata": {
    "collapsed": true
   },
   "outputs": [],
   "source": [
    "# Define new set of training presidents:\n",
    "train_pres = ['dem0', 'dem1', 'dem2', 'dem3', 'dem4', 'dem5', 'dem6', \n",
    "              'dem7', 'dem9', 'rep1', 'dem8', \n",
    "               'rep6', 'rep7', 'rep8', 'rep9', 'rep10', 'rep11', 'rep12', 'rep15', 'rep14', 'rep13']\n",
    "\n",
    "test_pres = ['dem11', 'dem12', 'dem13','rep2', 'rep3', 'rep4', 'rep5']#, "
   ]
  },
  {
   "cell_type": "code",
   "execution_count": 245,
   "metadata": {},
   "outputs": [
    {
     "name": "stdout",
     "output_type": "stream",
     "text": [
      "Success rate in predicting party of Presidents:  0.42857142857142855\n"
     ]
    }
   ],
   "source": [
    "rfc.fit(X[word_counts['which_speech'].isin(train_pres)], Y[word_counts['which_speech'].isin(train_pres)])\n",
    "\n",
    "success_count = 0\n",
    "for speech in test_pres:\n",
    "    phrase_predictions = rfc.predict(X[word_counts['which_speech'] == speech])\n",
    "    countdem = [1 for value in phrase_predictions if value == 'dem']\n",
    "    fracdem = np.sum(countdem) / len(phrase_predictions)\n",
    "    if fracdem > 0.5 and speech.startswith('dem'):\n",
    "        success_count += 1\n",
    "    elif fracdem < 0.5 and speech.startswith('rep'):\n",
    "        success_count += 1\n",
    "print('Success rate in predicting party of Presidents: ', success_count / len(test_pres))"
   ]
  },
  {
   "cell_type": "markdown",
   "metadata": {},
   "source": [
    "### Logistic Regression"
   ]
  },
  {
   "cell_type": "code",
   "execution_count": 204,
   "metadata": {},
   "outputs": [
    {
     "name": "stdout",
     "output_type": "stream",
     "text": [
      "(1848, 2791) (1848,)\n",
      "Training set score: 0.909090909091\n",
      "[ 0.51945525  0.56420233  0.51167315  0.45224172  0.53216374  0.45703125]\n",
      "\n",
      "Average accuracy of cross-val data (incl. train data): 0.5061\n",
      "SD of accuracy: 0.03994\n",
      "--------------------------------------------------\n",
      "\n",
      "Time taken: 0.1 minutes.\n"
     ]
    }
   ],
   "source": [
    "from sklearn.linear_model import LogisticRegression\n",
    "\n",
    "start_time = time.time()\n",
    "lr = LogisticRegression()\n",
    "train = lr.fit(X_train, y_train)\n",
    "print(X_train.shape, y_train.shape)\n",
    "print('Training set score:', lr.score(X_train, y_train))\n",
    "\n",
    "\n",
    "# Or could use np.array(Y).reshape(len(Y),) instead of np.array(Y).ravel():\n",
    "score = cross_val_score(lr, X, np.array(Y).ravel(), cv=6)\n",
    "print(score)\n",
    "print('\\nAverage accuracy of cross-val data (incl. train data): {}'.format('%.4f' %(sum(score)/len(score))))\n",
    "print('SD of accuracy: {}'.format('%.5f' % np.std(score)))\n",
    "print('-' * 50)\n",
    "print('\\nTime taken: {} minutes.'.format('%.1f' % ((time.time() - start_time) / 60)))"
   ]
  },
  {
   "cell_type": "code",
   "execution_count": 220,
   "metadata": {},
   "outputs": [
    {
     "name": "stdout",
     "output_type": "stream",
     "text": [
      "Success rate in predicting party of President:  0.8571428571428571\n"
     ]
    }
   ],
   "source": [
    "success_count = 0\n",
    "for speech in speeches:\n",
    "    x = lr.predict(X[word_counts['which_speech'] == speech])\n",
    "    countdem = [1 for sentence in x if sentence == 'dem']\n",
    "#    print(x)\n",
    "    fracdem = np.sum(countdem) / len(x)\n",
    "#    print(fracdem)\n",
    "    if fracdem > 0.5 and speech.startswith('dem'):\n",
    "#        print('Success!')\n",
    "        success_count += 1\n",
    "    elif fracdem < 0.5 and speech.startswith('rep'):\n",
    "#        print('Success!')\n",
    "        success_count += 1\n",
    "print('Success rate in predicting party of President: ', success_count / len(speeches))"
   ]
  },
  {
   "cell_type": "code",
   "execution_count": 221,
   "metadata": {},
   "outputs": [
    {
     "name": "stdout",
     "output_type": "stream",
     "text": [
      "Success rate in predicting party of Presidents:  0.5\n"
     ]
    }
   ],
   "source": [
    "lr.fit(X[word_counts['which_speech'].isin(train_pres)], Y[word_counts['which_speech'].isin(train_pres)])\n",
    "\n",
    "success_count = 0\n",
    "for speech in test_pres:\n",
    "    phrase_predictions = lr.predict(X[word_counts['which_speech'] == speech])\n",
    "    countdem = [1 for value in phrase_predictions if value == 'dem']\n",
    "    fracdem = np.sum(countdem) / len(phrase_predictions)\n",
    "    if fracdem > 0.5 and speech.startswith('dem'):\n",
    "        success_count += 1\n",
    "    elif fracdem < 0.5 and speech.startswith('rep'):\n",
    "        success_count += 1\n",
    "print('Success rate in predicting party of Presidents: ', success_count / len(test_pres))"
   ]
  },
  {
   "cell_type": "markdown",
   "metadata": {},
   "source": [
    "### Gradient Boosting"
   ]
  },
  {
   "cell_type": "code",
   "execution_count": 214,
   "metadata": {
    "collapsed": true
   },
   "outputs": [],
   "source": [
    "params  =  {'n_estimators' : 100,\n",
    "          'max_depth': 10,\n",
    "          'loss': 'deviance'}"
   ]
  },
  {
   "cell_type": "code",
   "execution_count": 215,
   "metadata": {},
   "outputs": [
    {
     "name": "stdout",
     "output_type": "stream",
     "text": [
      "(1848, 2791) (1848,)\n",
      "Training set score: 0.87012987013\n",
      "[ 0.55447471  0.55447471  0.52529183  0.43859649  0.57309942  0.50195312]\n",
      "\n",
      "Average accuracy of cross-val data (incl. train data): 0.5246\n",
      "SD of accuracy: 0.04481\n",
      "--------------------------------------------------\n",
      "\n",
      "Time taken: 4.3 minutes.\n"
     ]
    }
   ],
   "source": [
    "start_time = time.time()\n",
    "clf = ensemble.GradientBoostingClassifier(**params)\n",
    "train = clf.fit(X_train, y_train)\n",
    "print(X_train.shape, y_train.shape)\n",
    "print('Training set score:', clf.score(X_train, y_train))\n",
    "\n",
    "\n",
    "# Or could use np.array(Y).reshape(len(Y),) instead of np.array(Y).ravel():\n",
    "score = cross_val_score(clf, X, np.array(Y).ravel(), cv=6)\n",
    "print(score)\n",
    "print('\\nAverage accuracy of cross-val data (incl. train data): {}'.format('%.4f' %(sum(score)/len(score))))\n",
    "print('SD of accuracy: {}'.format('%.5f' % np.std(score)))\n",
    "print('-' * 50)\n",
    "print('\\nTime taken: {} minutes.'.format('%.1f' % ((time.time() - start_time) / 60)))"
   ]
  },
  {
   "cell_type": "code",
   "execution_count": 216,
   "metadata": {},
   "outputs": [
    {
     "name": "stdout",
     "output_type": "stream",
     "text": [
      "Success rate in predicting party of Presidents:  0.5\n"
     ]
    }
   ],
   "source": [
    "clf.fit(X[word_counts['which_speech'].isin(train_pres)], Y[word_counts['which_speech'].isin(train_pres)])\n",
    "\n",
    "success_count = 0\n",
    "for speech in test_pres:\n",
    "    phrase_predictions = clf.predict(X[word_counts['which_speech'] == speech])\n",
    "    countdem = [1 for value in phrase_predictions if value == 'dem']\n",
    "    fracdem = np.sum(countdem) / len(phrase_predictions)\n",
    "    if fracdem > 0.5 and speech.startswith('dem'):\n",
    "        success_count += 1\n",
    "    elif fracdem < 0.5 and speech.startswith('rep'):\n",
    "        success_count += 1\n",
    "print('Success rate in predicting party of Presidents: ', success_count / len(test_pres))"
   ]
  },
  {
   "cell_type": "markdown",
   "metadata": {},
   "source": [
    "### Support Vector Classifier"
   ]
  },
  {
   "cell_type": "code",
   "execution_count": 212,
   "metadata": {},
   "outputs": [
    {
     "name": "stdout",
     "output_type": "stream",
     "text": [
      "Training set score: 0.599567099567\n",
      "[ 0.58949416  0.58949416  0.58949416  0.59064327  0.59064327  0.58984375]\n",
      "\n",
      "Average accuracy of cross-val data (incl. train data): 0.5899\n",
      "SD of accuracy: 0.00052\n",
      "--------------------------------------------------\n",
      "\n",
      "Time taken: 4.3 minutes.\n"
     ]
    }
   ],
   "source": [
    "from sklearn.svm import SVC\n",
    "start_time = time.time()\n",
    "svc = SVC()\n",
    "svc.fit(X_train, y_train)\n",
    "print('Training set score:', svc.score(X_train, y_train))\n",
    "# Or could use np.array(Y).reshape(len(Y),) instead of np.array(Y).ravel():\n",
    "score = cross_val_score(svc, X, np.array(Y).ravel(), cv=6)\n",
    "print(score)\n",
    "print('\\nAverage accuracy of cross-val data (incl. train data): {}'.format('%.4f' %(sum(score)/len(score))))\n",
    "print('SD of accuracy: {}'.format('%.5f' % np.std(score)))\n",
    "print('-' * 50)\n",
    "print('\\nTime taken: {} minutes.'.format('%.1f' % ((time.time() - start_time) / 60)))"
   ]
  },
  {
   "cell_type": "code",
   "execution_count": 213,
   "metadata": {},
   "outputs": [
    {
     "name": "stdout",
     "output_type": "stream",
     "text": [
      "Success rate in predicting party of Presidents:  0.5\n"
     ]
    }
   ],
   "source": [
    "svc.fit(X[word_counts['which_speech'].isin(train_pres)], Y[word_counts['which_speech'].isin(train_pres)])\n",
    "\n",
    "success_count = 0\n",
    "for speech in test_pres:\n",
    "    phrase_predictions = svc.predict(X[word_counts['which_speech'] == speech])\n",
    "    countdem = [1 for value in phrase_predictions if value == 'dem']\n",
    "    fracdem = np.sum(countdem) / len(phrase_predictions)\n",
    "    if fracdem > 0.5 and speech.startswith('dem'):\n",
    "        success_count += 1\n",
    "    elif fracdem < 0.5 and speech.startswith('rep'):\n",
    "        success_count += 1\n",
    "print('Success rate in predicting party of Presidents: ', success_count / len(test_pres))"
   ]
  },
  {
   "cell_type": "markdown",
   "metadata": {},
   "source": [
    "### K-Nearest Neighbors"
   ]
  },
  {
   "cell_type": "code",
   "execution_count": 217,
   "metadata": {},
   "outputs": [
    {
     "name": "stdout",
     "output_type": "stream",
     "text": [
      "Training set score: 0.983225108225\n",
      "[ 0.55642023  0.57003891  0.54863813  0.40935673  0.57894737  0.4765625 ]\n",
      "-------------------------------------------------- \n",
      "\n",
      "\n",
      "Average accuracy of cross-val data (incl. train data): 0.5233\n",
      "SD of accuracy: 0.06081\n",
      "--------------------------------------------------\n",
      "\n",
      "Time taken: 1.4 minutes.\n"
     ]
    }
   ],
   "source": [
    "# This function runs the KNN Classifier\n",
    "# and performs cross-validation\n",
    "from sklearn.neighbors import KNeighborsClassifier\n",
    "\n",
    "start_time = time.time()\n",
    "knn = KNeighborsClassifier(n_neighbors=250, weights='distance')\n",
    "knn.fit(X_train, y_train)\n",
    "print('Training set score:', knn.score(X_train, y_train))\n",
    "\n",
    "score = cross_val_score(knn, X, np.array(Y).ravel(), cv=6)\n",
    "print(score)  \n",
    "print('-' * 50, '\\n')\n",
    "print('\\nAverage accuracy of cross-val data (incl. train data): {}'.format('%.4f' %(sum(score)/len(score))))\n",
    "print('SD of accuracy: {}'.format('%.5f' % np.std(score)))\n",
    "print('-' * 50)\n",
    "print('\\nTime taken: {} minutes.'.format('%.1f' % ((time.time() - start_time) / 60)))"
   ]
  },
  {
   "cell_type": "code",
   "execution_count": 218,
   "metadata": {},
   "outputs": [
    {
     "name": "stdout",
     "output_type": "stream",
     "text": [
      "Percentage accuracy of model: 0.42857142857142855\n"
     ]
    }
   ],
   "source": [
    "count = 0\n",
    "for speech in speeches:\n",
    "    ans = knn.predict(X[word_counts['which_speech'] == speech])\n",
    "    percentdem = list(ans).count('dem') / len(ans)\n",
    "    if percentdem > 0.5 and speech.startswith('dem'):\n",
    "        count +=1\n",
    "print('Percentage accuracy of model: {}'.format(count / len(speeches)))"
   ]
  },
  {
   "cell_type": "code",
   "execution_count": 219,
   "metadata": {},
   "outputs": [
    {
     "name": "stdout",
     "output_type": "stream",
     "text": [
      "Success rate in predicting party of Presidents:  0.5\n"
     ]
    }
   ],
   "source": [
    "knn.fit(X[word_counts['which_speech'].isin(train_pres)], Y[word_counts['which_speech'].isin(train_pres)])\n",
    "\n",
    "success_count = 0\n",
    "for speech in test_pres:\n",
    "    phrase_predictions = knn.predict(X[word_counts['which_speech'] == speech])\n",
    "    countdem = [1 for value in phrase_predictions if value == 'dem']\n",
    "    fracdem = np.sum(countdem) / len(phrase_predictions)\n",
    "    if fracdem > 0.5 and speech.startswith('dem'):\n",
    "        success_count += 1\n",
    "    elif fracdem < 0.5 and speech.startswith('rep'):\n",
    "        success_count += 1\n",
    "print('Success rate in predicting party of Presidents: ', success_count / len(test_pres))"
   ]
  },
  {
   "cell_type": "markdown",
   "metadata": {},
   "source": [
    "### Naive Bayes Classifier"
   ]
  },
  {
   "cell_type": "code",
   "execution_count": 222,
   "metadata": {
    "collapsed": true
   },
   "outputs": [],
   "source": [
    "# Our data is binary / boolean, so we're importing the Bernoulli classifier.\n",
    "from sklearn.naive_bayes import BernoulliNB\n",
    "\n",
    "# Instantiate our model and store it in a new variable.\n",
    "bnb = BernoulliNB()"
   ]
  },
  {
   "cell_type": "code",
   "execution_count": 223,
   "metadata": {},
   "outputs": [
    {
     "name": "stdout",
     "output_type": "stream",
     "text": [
      "28 3080 115\n",
      "['dem0', 'dem1', 'dem2', 'dem3', 'dem4', 'dem5', 'dem6', 'dem7', 'dem8', 'dem9', 'dem11', 'dem12', 'dem13', 'rep1', 'rep2', 'rep3', 'rep4', 'rep5', 'rep6', 'rep7', 'rep8', 'rep9', 'rep10', 'rep11', 'rep12', 'rep13', 'rep14', 'rep15']\n",
      "Percentage accuracy of model: 0.21428571428571427\n"
     ]
    }
   ],
   "source": [
    "count = 0\n",
    "address = []\n",
    "rep_or_dem = []\n",
    "for speech in speeches:\n",
    "    bnb.fit(X_train, y_train)\n",
    "    ans = bnb.predict(X[word_counts['which_speech'] == speech])\n",
    "    percentdem = list(ans).count('dem') / len(ans)\n",
    "    address.append(speech)# * len(ans))\n",
    "    rep_or_dem.extend(list(ans))\n",
    "    if percentdem > 0.5 and speech.startswith('dem'):\n",
    "        count +=1\n",
    "print(len(address), len(rep_or_dem), len(ans))\n",
    "print(address)\n",
    "print('Percentage accuracy of model: {}'.format(count / len(speeches)))"
   ]
  },
  {
   "cell_type": "code",
   "execution_count": 224,
   "metadata": {},
   "outputs": [
    {
     "name": "stdout",
     "output_type": "stream",
     "text": [
      "Success rate in predicting party of Presidents:  0.5\n"
     ]
    }
   ],
   "source": [
    "bnb.fit(X[word_counts['which_speech'].isin(train_pres)], Y[word_counts['which_speech'].isin(train_pres)])\n",
    "\n",
    "success_count = 0\n",
    "for speech in test_pres:\n",
    "    phrase_predictions = bnb.predict(X[word_counts['which_speech'] == speech])\n",
    "    countdem = [1 for value in phrase_predictions if value == 'dem']\n",
    "    fracdem = np.sum(countdem) / len(phrase_predictions)\n",
    "    if fracdem > 0.5 and speech.startswith('dem'):\n",
    "        success_count += 1\n",
    "    elif fracdem < 0.5 and speech.startswith('rep'):\n",
    "        success_count += 1\n",
    "print('Success rate in predicting party of Presidents: ', success_count / len(test_pres))"
   ]
  },
  {
   "cell_type": "markdown",
   "metadata": {},
   "source": [
    "## 2. tf-idf Approach "
   ]
  },
  {
   "cell_type": "code",
   "execution_count": 17,
   "metadata": {
    "collapsed": true
   },
   "outputs": [],
   "source": [
    "dem_dict = {}\n",
    "for index, speech in enumerate(dem):\n",
    "    dem_dict['dem' + str(index)] = inaugural.paras(speech)\n",
    "    dem_dict['dem' + str(index)][0][0].insert(0, 'dem' + str(index))"
   ]
  },
  {
   "cell_type": "code",
   "execution_count": 18,
   "metadata": {
    "collapsed": true
   },
   "outputs": [],
   "source": [
    "dem_dict = {}\n",
    "dem_list = []\n",
    "for index, speech in enumerate(dem):\n",
    "    dem_dict['dem' + str(index)] = inaugural.paras(speech)\n",
    "    dem_dict['dem' + str(index)][0][0].insert(0, 'dem' + str(index))\n",
    "    words = dem_dict['dem' + str(index)]\n",
    "    dem_list.append(words)"
   ]
  },
  {
   "cell_type": "code",
   "execution_count": 19,
   "metadata": {
    "collapsed": true
   },
   "outputs": [],
   "source": [
    "rep_dict = {}\n",
    "rep_list = []\n",
    "for index, speech in enumerate(rep):\n",
    "    rep_dict['rep' + str(index)] = inaugural.paras(speech)\n",
    "    rep_dict['rep' + str(index)][0][0].insert(0, 'rep' + str(index))\n",
    "    words = rep_dict['rep' + str(index)]\n",
    "    rep_list.append(words)"
   ]
  },
  {
   "cell_type": "code",
   "execution_count": 21,
   "metadata": {},
   "outputs": [
    {
     "data": {
      "text/plain": [
       "16"
      ]
     },
     "execution_count": 21,
     "metadata": {},
     "output_type": "execute_result"
    }
   ],
   "source": [
    "len(rep_list)"
   ]
  },
  {
   "cell_type": "code",
   "execution_count": 22,
   "metadata": {
    "collapsed": true
   },
   "outputs": [],
   "source": [
    "speech_paras = dem_dict['dem0']\n",
    "for i in range(1, len(dem_dict)):\n",
    "    x = dem_dict['dem' + str(i)]\n",
    "    speech_paras += x\n",
    "for key in rep_dict:\n",
    "    speech_paras += rep_dict[key] "
   ]
  },
  {
   "cell_type": "code",
   "execution_count": 23,
   "metadata": {},
   "outputs": [
    {
     "data": {
      "text/plain": [
       "[[['dem4', 'On', 'each', 'national', 'day', 'of', 'inauguration', 'since', '1789', ',', 'the', 'people', 'have', 'renewed', 'their', 'sense', 'of', 'dedication', 'to', 'the', 'United', 'States', '.']], [['In', 'Washington', \"'\", 's', 'day', 'the', 'task', 'of', 'the', 'people', 'was', 'to', 'create', 'and', 'weld', 'together', 'a', 'nation', '.']], ...]"
      ]
     },
     "execution_count": 23,
     "metadata": {},
     "output_type": "execute_result"
    }
   ],
   "source": [
    "dem_dict['dem4']"
   ]
  },
  {
   "cell_type": "code",
   "execution_count": 25,
   "metadata": {},
   "outputs": [
    {
     "data": {
      "text/plain": [
       "[[['There', 'has', 'been', 'a', 'change', 'of', 'government', '.'], ['It', 'began', 'two', 'years', 'ago', ',', 'when', 'the', 'House', 'of', 'Representatives', 'became', 'Democratic', 'by', 'a', 'decisive', 'majority', '.'], ['It', 'has', 'now', 'been', 'completed', '.'], ['The', 'Senate', 'about', 'to', 'assemble', 'will', 'also', 'be', 'Democratic', '.'], ['The', 'offices', 'of', 'President', 'and', 'Vice', '-', 'President', 'have', 'been', 'put', 'into', 'the', 'hands', 'of', 'Democrats', '.'], ['What', 'does', 'the', 'change', 'mean', '?'], ['That', 'is', 'the', 'question', 'that', 'is', 'uppermost', 'in', 'our', 'minds', 'today', '.'], ['That', 'is', 'the', 'question', 'I', 'am', 'going', 'to', 'try', 'to', 'answer', ',', 'in', 'order', ',', 'if', 'I', 'may', ',', 'to', 'interpret', 'the', 'occasion', '.']], [['It', 'means', 'much', 'more', 'than', 'the', 'mere', 'success', 'of', 'a', 'party', '.'], ['The', 'success', 'of', 'a', 'party', 'means', 'little', 'except', 'when', 'the', 'Nation', 'is', 'using', 'that', 'party', 'for', 'a', 'large', 'and', 'definite', 'purpose', '.'], ['No', 'one', 'can', 'mistake', 'the', 'purpose', 'for', 'which', 'the', 'Nation', 'now', 'seeks', 'to', 'use', 'the', 'Democratic', 'Party', '.'], ['It', 'seeks', 'to', 'use', 'it', 'to', 'interpret', 'a', 'change', 'in', 'its', 'own', 'plans', 'and', 'point', 'of', 'view', '.'], ['Some', 'old', 'things', 'with', 'which', 'we', 'had', 'grown', 'familiar', ',', 'and', 'which', 'had', 'begun', 'to', 'creep', 'into', 'the', 'very', 'habit', 'of', 'our', 'thought', 'and', 'of', 'our', 'lives', ',', 'have', 'altered', 'their', 'aspect', 'as', 'we', 'have', 'latterly', 'looked', 'critically', 'upon', 'them', ',', 'with', 'fresh', ',', 'awakened', 'eyes', ';', 'have', 'dropped', 'their', 'disguises', 'and', 'shown', 'themselves', 'alien', 'and', 'sinister', '.'], ['Some', 'new', 'things', ',', 'as', 'we', 'look', 'frankly', 'upon', 'them', ',', 'willing', 'to', 'comprehend', 'their', 'real', 'character', ',', 'have', 'come', 'to', 'assume', 'the', 'aspect', 'of', 'things', 'long', 'believed', 'in', 'and', 'familiar', ',', 'stuff', 'of', 'our', 'own', 'convictions', '.'], ['We', 'have', 'been', 'refreshed', 'by', 'a', 'new', 'insight', 'into', 'our', 'own', 'life', '.']], ...]"
      ]
     },
     "execution_count": 25,
     "metadata": {},
     "output_type": "execute_result"
    }
   ],
   "source": [
    "speech_paras"
   ]
  },
  {
   "cell_type": "code",
   "execution_count": 26,
   "metadata": {
    "collapsed": true
   },
   "outputs": [],
   "source": [
    "# This be it!\n",
    "final = {}\n",
    "for key in dem_dict:\n",
    "    final[key] = []\n",
    "    for paragraph in dem_dict[key]:        \n",
    "        final_para = paragraph[0]\n",
    "        for i in range(1, len(paragraph)):\n",
    "            final_para.extend(paragraph[i])           \n",
    "        final[key].append(' '.join(final_para))\n",
    "\n",
    "for key in rep_dict:\n",
    "    final[key] = []\n",
    "    for paragraph in rep_dict[key]:        \n",
    "        final_para = paragraph[0]\n",
    "        for i in range(1, len(paragraph)):\n",
    "            final_para.extend(paragraph[i])           \n",
    "        final[key].append(' '.join(final_para))"
   ]
  },
  {
   "cell_type": "code",
   "execution_count": 27,
   "metadata": {},
   "outputs": [
    {
     "data": {
      "text/plain": [
       "['Senator Dirksen , Mr . Chief Justice , Mr . Vice President , President Johnson , Vice President Humphrey , my fellow Americans -- and my fellow citizens of the world community :',\n",
       " 'I ask you to share with me today the majesty of this moment . In the orderly transfer of power , we celebrate the unity that keeps us free .',\n",
       " 'Each moment in history is a fleeting time , precious and unique . But some stand out as moments of beginning , in which courses are set that shape decades or centuries .',\n",
       " 'This can be such a moment .',\n",
       " \"Forces now are converging that make possible , for the first time , the hope that many of man ' s deepest aspirations can at last be realized . The spiraling pace of change allows us to contemplate , within our own lifetime , advances that once would have taken centuries .\",\n",
       " 'In throwing wide the horizons of space , we have discovered new horizons on earth .',\n",
       " 'For the first time , because the people of the world want peace , and the leaders of the world are afraid of war , the times are on the side of peace .',\n",
       " 'Eight years from now America will celebrate its 200th anniversary as a nation . Within the lifetime of most people now living , mankind will celebrate that great new year which comes only once in a thousand years -- the beginning of the third millennium .',\n",
       " 'What kind of nation we will be , what kind of world we will live in , whether we shape the future in the image of our hopes , is ours to determine by our actions and our choices .',\n",
       " 'The greatest honor history can bestow is the title of peacemaker . This honor now beckons America -- the chance to help lead the world at last out of the valley of turmoil , and onto that high ground of peace that man has dreamed of since the dawn of civilization .',\n",
       " 'If we succeed , generations to come will say of us now living that we mastered our moment , that we helped make the world safe for mankind .',\n",
       " 'This is our summons to greatness .',\n",
       " 'I believe the American people are ready to answer this call .',\n",
       " 'The second third of this century has been a time of proud achievement . We have made enormous strides in science and industry and agriculture . We have shared our wealth more broadly than ever . We have learned at last to manage a modern economy to assure its continued growth .',\n",
       " 'We have given freedom new reach , and we have begun to make its promise real for black as well as for white .',\n",
       " \"We see the hope of tomorrow in the youth of today . I know America ' s youth . I believe in them . We can be proud that they are better educated , more committed , more passionately driven by conscience than any generation in our history .\",\n",
       " 'No people has ever been so close to the achievement of a just and abundant society , or so possessed of the will to achieve it . Because our strengths are so great , we can afford to appraise our weaknesses with candor and to approach them with hope .',\n",
       " 'Standing in this same place a third of a century ago , Franklin Delano Roosevelt addressed a Nation ravaged by depression and gripped in fear . He could say in surveying the Nation \\' s troubles : \" They concern , thank God , only material things .\"',\n",
       " 'Our crisis today is the reverse .',\n",
       " 'We have found ourselves rich in goods , but ragged in spirit ; reaching with magnificent precision for the moon , but falling into raucous discord on earth .',\n",
       " 'We are caught in war , wanting peace . We are torn by division , wanting unity . We see around us empty lives , wanting fulfillment . We see tasks that need doing , waiting for hands to do them .',\n",
       " 'To a crisis of the spirit , we need an answer of the spirit .',\n",
       " 'To find that answer , we need only look within ourselves .',\n",
       " 'When we listen to \" the better angels of our nature ,\" we find that they celebrate the simple things , the basic things -- such as goodness , decency , love , kindness .',\n",
       " 'Greatness comes in simple trappings .',\n",
       " 'The simple things are the ones most needed today if we are to surmount what divides us , and cement what unites us .',\n",
       " 'To lower our voices would be a simple thing .',\n",
       " 'In these difficult years , America has suffered from a fever of words ; from inflated rhetoric that promises more than it can deliver ; from angry rhetoric that fans discontents into hatreds ; from bombastic rhetoric that postures instead of persuading .',\n",
       " 'We cannot learn from one another until we stop shouting at one another -- until we speak quietly enough so that our words can be heard as well as our voices .',\n",
       " 'For its part , government will listen . We will strive to listen in new ways -- to the voices of quiet anguish , the voices that speak without words , the voices of the heart -- to the injured voices , the anxious voices , the voices that have despaired of being heard .',\n",
       " 'Those who have been left out , we will try to bring in .',\n",
       " 'Those left behind , we will help to catch up .',\n",
       " 'For all of our people , we will set as our goal the decent order that makes progress possible and our lives secure .',\n",
       " 'As we reach toward our hopes , our task is to build on what has gone before -- not turning away from the old , but turning toward the new .',\n",
       " 'In this past third of a century , government has passed more laws , spent more money , initiated more programs , than in all our previous history .',\n",
       " 'In pursuing our goals of full employment , better housing , excellence in education ; in rebuilding our cities and improving our rural areas ; in protecting our environment and enhancing the quality of life -- in all these and more , we will and must pres urgently forward .',\n",
       " 'We shall plan now for the day when our wealth can be transferred from the destruction of war abroad to the urgent needs of our people at home .',\n",
       " 'The American dream does not come to those who fall asleep .',\n",
       " 'But we are approaching the limits of what government alone can do .',\n",
       " 'Our greatest need now is to reach beyond government , and to enlist the legions of the concerned and the committed .',\n",
       " 'What has to be done , has to be done by government and people together or it will not be done at all . The lesson of past agony is that without the people we can do nothing ; with the people we can do everything .',\n",
       " 'To match the magnitude of our tasks , we need the energies of our people -- enlisted not only in grand enterprises , but more importantly in those small , splendid efforts that make headlines in the neighborhood newspaper instead of the national journal .',\n",
       " 'With these , we can build a great cathedral of the spirit -- each of us raising it one stone at a time , as he reaches out to his neighbor , helping , caring , doing .',\n",
       " 'I do not offer a life of uninspiring ease . I do not call for a life of grim sacrifice . I ask you to join in a high adventure -- one as rich as humanity itself , and as exciting as the times we live in .',\n",
       " 'The essence of freedom is that each of us shares in the shaping of his own destiny .',\n",
       " 'Until he has been part of a cause larger than himself , no man is truly whole .',\n",
       " 'The way to fulfillment is in the use of our talents ; we achieve nobility in the spirit that inspires that use .',\n",
       " 'As we measure what can be done , we shall promise only what we know we can produce , but as we chart our goals we shall be lifted by our dreams .',\n",
       " 'No man can be fully free while his neighbor is not . To go forward at all is to go forward together .',\n",
       " 'This means black and white together , as one nation , not two . The laws have caught up with our conscience . What remains is to give life to what is in the law : to ensure at last that as all are born equal in dignity before God , all are born equal in dignity before man .',\n",
       " 'As we learn to go forward together at home , let us also seek to go forward together with all mankind .',\n",
       " 'Let us take as our goal : where peace is unknown , make it welcome ; where peace is fragile , make it strong ; where peace is temporary , make it permanent .',\n",
       " 'After a period of confrontation , we are entering an era of negotiation .',\n",
       " 'Let all nations know that during this administration our lines of communication will be open .',\n",
       " 'We seek an open world -- open to ideas , open to the exchange of goods and people -- a world in which no people , great or small , will live in angry isolation .',\n",
       " 'We cannot expect to make everyone our friend , but we can try to make no one our enemy .',\n",
       " 'Those who would be our adversaries , we invite to a peaceful competition -- not in conquering territory or extending dominion , but in enriching the life of man .',\n",
       " 'As we explore the reaches of space , let us go to the new worlds together -- not as new worlds to be conquered , but as a new adventure to be shared .',\n",
       " 'With those who are willing to join , let us cooperate to reduce the burden of arms , to strengthen the structure of peace , to lift up the poor and the hungry .',\n",
       " 'But to all those who would be tempted by weakness , let us leave no doubt that we will be as strong as we need to be for as long as we need to be .',\n",
       " 'Over the past twenty years , since I first came to this Capital as a freshman Congressman , I have visited most of the nations of the world .',\n",
       " 'I have come to know the leaders of the world , and the great forces , the hatreds , the fears that divide the world .',\n",
       " 'I know that peace does not come through wishing for it -- that there is no substitute for days and even years of patient and prolonged diplomacy .',\n",
       " 'I also know the people of the world .',\n",
       " 'I have seen the hunger of a homeless child , the pain of a man wounded in battle , the grief of a mother who has lost her son . I know these have no ideology , no race .',\n",
       " 'I know America . I know the heart of America is good .',\n",
       " 'I speak from my own heart , and the heart of my country , the deep concern we have for those who suffer , and those who sorrow .',\n",
       " 'I have taken an oath today in the presence of God and my countrymen to uphold and defend the Constitution of the United States . To that oath I now add this sacred commitment : I shall consecrate my office , my energies , and all the wisdom I can summon , to the cause of peace among nations .',\n",
       " 'Let this message be heard by strong and weak alike :',\n",
       " 'The peace we seek to win is not victory over any other people , but the peace that comes \" with healing in its wings \"; with compassion for those who have suffered ; with understanding for those who have opposed us ; with the opportunity for all the peoples of this earth to choose their own destiny .',\n",
       " \"Only a few short weeks ago , we shared the glory of man ' s first sight of the world as God sees it , as a single sphere reflecting light in the darkness .\",\n",
       " \"As the Apollo astronauts flew over the moon ' s gray surface on Christmas Eve , they spoke to us of the beauty of earth -- and in that voice so clear across the lunar distance , we heard them invoke God ' s blessing on its goodness .\",\n",
       " 'In that moment , their view from the moon moved poet Archibald MacLeish to write :',\n",
       " '\" To see the earth as it truly is , small and blue and beautiful in that eternal silence where it floats , is to see ourselves as riders on the earth together , brothers on that bright loveliness in the eternal cold -- brothers who know now they are truly brothers .\"',\n",
       " \"In that moment of surpassing technological triumph , men turned their thoughts toward home and humanity -- seeing in that far perspective that man ' s destiny on earth is not divisible ; telling us that however far we reach into the cosmos , our destiny lies not in the stars but on Earth itself , in our own hands , in our own hearts .\",\n",
       " 'We have endured a long night of the American spirit . But as our eyes catch the dimness of the first rays of dawn , let us not curse the remaining dark . Let us gather the light .',\n",
       " 'Our destiny offers , not the cup of despair , but the chalice of opportunity . So let us seize it , not in fear , but in gladness -- and , \" riders on the earth together ,\" let us go forward , firm in our faith , steadfast in our purpose , cautious of the dangers ; but sustained by our confidence in the will of God and the promise of man .']"
      ]
     },
     "execution_count": 27,
     "metadata": {},
     "output_type": "execute_result"
    }
   ],
   "source": [
    "final['rep9']"
   ]
  },
  {
   "cell_type": "code",
   "execution_count": 29,
   "metadata": {},
   "outputs": [
    {
     "name": "stdout",
     "output_type": "stream",
     "text": [
      "Number of features: 497\n",
      "Original sentence: There has been a change of government . It began two years ago , when the House of Representatives became Democratic by a decisive majority . It has now been completed . The Senate about to assemble will also be Democratic . The offices of President and Vice - President have been put into the hands of Democrats . What does the change mean ? That is the question that is uppermost in our minds today . That is the question I am going to try to answer , in order , if I may , to interpret the occasion .\n",
      "Tf_idf vector: {'change': 0.25187927420212392, 'government': 0.092356583371141721, 'began': 0.16753603146542811, 'years': 0.12593963710106196, 'ago': 0.14320370059706508, 'house': 0.16753603146542811, 'representatives': 0.16753603146542811, 'democratic': 0.28640740119413016, 'decisive': 0.16753603146542811, 'majority': 0.16753603146542811, 'completed': 0.16753603146542811, 'senate': 0.16753603146542811, 'assemble': 0.16753603146542811, 'offices': 0.16753603146542811, 'president': 0.33507206293085623, 'vice': 0.16753603146542811, 'hands': 0.16753603146542811, 'democrats': 0.16753603146542811, 'does': 0.14320370059706508, 'mean': 0.16753603146542811, 'question': 0.28640740119413016, 'uppermost': 0.16753603146542811, 'minds': 0.14320370059706508, 'today': 0.16753603146542811, 'going': 0.16753603146542811, 'try': 0.14320370059706508, 'answer': 0.16753603146542811, 'order': 0.16753603146542811, 'interpret': 0.14320370059706508, 'occasion': 0.16753603146542811}\n",
      "Number of features: 391\n",
      "Original sentence: My Fellow citizens : The four years which have elapsed since last I stood in this place have been crowded with counsel and action of the most vital interest and consequence . Perhaps no equal period in our history has been so fruitful of important reforms in our economic and industrial life or so full of significant changes in the spirit and purpose of our political action . We have sought very thoughtfully to set our house in order , correct the grosser errors and abuses of our industrial life , liberate and quicken the processes of our national genius and energy , and lift our politics to a broader view of the people ' s essential interests .\n",
      "Tf_idf vector: {'fellow': 0.13114997670194117, 'citizens': 0.11763538222649027, 'years': 0.11763538222649027, 'elapsed': 0.15019772779510382, 'stood': 0.15019772779510382, 'place': 0.15019772779510382, 'crowded': 0.15019772779510382, 'counsel': 0.10715264835252256, 'action': 0.18269202451585903, 'vital': 0.13114997670194117, 'consequence': 0.15019772779510382, 'equal': 0.13114997670194117, 'period': 0.15019772779510382, 'history': 0.15019772779510382, 'fruitful': 0.15019772779510382, 'important': 0.15019772779510382, 'reforms': 0.15019772779510382, 'economic': 0.15019772779510382, 'industrial': 0.26229995340388235, 'life': 0.1971752622666553, 'significant': 0.15019772779510382, 'changes': 0.15019772779510382, 'spirit': 0.10715264835252256, 'purpose': 0.098587631133327649, 'political': 0.13114997670194117, 'sought': 0.15019772779510382, 'thoughtfully': 0.15019772779510382, 'set': 0.10715264835252256, 'house': 0.15019772779510382, 'order': 0.13114997670194117, 'correct': 0.15019772779510382, 'grosser': 0.15019772779510382, 'errors': 0.15019772779510382, 'abuses': 0.15019772779510382, 'liberate': 0.15019772779510382, 'quicken': 0.15019772779510382, 'processes': 0.13114997670194117, 'national': 0.10715264835252256, 'genius': 0.15019772779510382, 'energy': 0.15019772779510382, 'lift': 0.15019772779510382, 'politics': 0.11763538222649027, 'broader': 0.15019772779510382, 'view': 0.15019772779510382, 'people': 0.098587631133327649, 'essential': 0.13114997670194117, 'interests': 0.15019772779510382}\n",
      "Number of features: 584\n",
      "Original sentence: I am certain that my fellow Americans expect that on my induction into the Presidency I will address them with a candor and a decision which the present situation of our Nation impels . This is preeminently the time to speak the truth , the whole truth , frankly and boldly . Nor need we shrink from honestly facing conditions in our country today . This great Nation will endure as it has endured , will revive and will prosper . So , first of all , let me assert my firm belief that the only thing we have to fear is fear itself -- nameless , unreasoning , unjustified terror which paralyzes needed efforts to convert retreat into advance . In every dark hour of our national life a leadership of frankness and vigor has met with that understanding and support of the people themselves which is essential to victory . I am convinced that you will again give that support to leadership in these critical days .\n",
      "Tf_idf vector: {'certain': 0.12177031464078238, 'fellow': 0.10806566114545924, 'americans': 0.12177031464078238, 'expect': 0.12177031464078238, 'induction': 0.12177031464078238, 'presidency': 0.12177031464078238, 'address': 0.10806566114545924, 'candor': 0.12177031464078238, 'decision': 0.12177031464078238, 'present': 0.10806566114545924, 'situation': 0.12177031464078238, 'nation': 0.16927480250229027, 'impels': 0.12177031464078238, 'preeminently': 0.12177031464078238, 'time': 0.084637401251145133, 'speak': 0.12177031464078238, 'truth': 0.24354062928156475, 'frankly': 0.10806566114545924, 'boldly': 0.12177031464078238, 'need': 0.098342054746468274, 'shrink': 0.12177031464078238, 'honestly': 0.12177031464078238, 'facing': 0.12177031464078238, 'conditions': 0.12177031464078238, 'country': 0.12177031464078238, 'today': 0.10806566114545924, 'great': 0.090799839672165747, 'endure': 0.10806566114545924, 'endured': 0.12177031464078238, 'revive': 0.12177031464078238, 'prosper': 0.12177031464078238, 'let': 0.12177031464078238, 'assert': 0.12177031464078238, 'firm': 0.12177031464078238, 'belief': 0.10806566114545924, 'thing': 0.12177031464078238, 'fear': 0.24354062928156475, 'nameless': 0.12177031464078238, 'unreasoning': 0.12177031464078238, 'unjustified': 0.12177031464078238, 'terror': 0.12177031464078238, 'paralyzes': 0.12177031464078238, 'needed': 0.10806566114545924, 'efforts': 0.090799839672165747, 'convert': 0.12177031464078238, 'retreat': 0.12177031464078238, 'advance': 0.12177031464078238, 'dark': 0.098342054746468274, 'hour': 0.12177031464078238, 'national': 0.079427133805549027, 'life': 0.10806566114545924, 'leadership': 0.16927480250229027, 'frankness': 0.12177031464078238, 'vigor': 0.12177031464078238, 'met': 0.10806566114545924, 'understanding': 0.12177031464078238, 'support': 0.24354062928156475, 'people': 0.074913794852154172, 'essential': 0.098342054746468274, 'victory': 0.12177031464078238, 'convinced': 0.12177031464078238, 'critical': 0.10806566114545924, 'days': 0.090799839672165747}\n",
      "Number of features: 548\n",
      "Original sentence: When four years ago we met to inaugurate a President , the Republic , single - minded in anxiety , stood in spirit here . We dedicated ourselves to the fulfillment of a vision -- to speed the time when there would be for all the people that security and peace essential to the pursuit of happiness . We of the Republic pledged ourselves to drive from the temple of our ancient faith those who had profaned it ; to end by action , tireless and unafraid , the stagnation and despair of that day . We did those first things first .\n"
     ]
    },
    {
     "name": "stdout",
     "output_type": "stream",
     "text": [
      "Tf_idf vector: {'years': 0.14123029500002887, 'ago': 0.14123029500002887, 'met': 0.17133936759415175, 'inaugurate': 0.17133936759415175, 'president': 0.1537266891950988, 'republic': 0.28246059000005774, 'single': 0.17133936759415175, 'minded': 0.17133936759415175, 'anxiety': 0.17133936759415175, 'stood': 0.17133936759415175, 'spirit': 0.14123029500002887, 'dedicated': 0.17133936759415175, 'fulfillment': 0.17133936759415175, 'vision': 0.1537266891950988, 'speed': 0.17133936759415175, 'time': 0.17133936759415175, 'people': 0.10142826602685469, 'security': 0.17133936759415175, 'peace': 0.13153733862097758, 'essential': 0.1537266891950988, 'pursuit': 0.17133936759415175, 'happiness': 0.17133936759415175, 'pledged': 0.17133936759415175, 'drive': 0.1537266891950988, 'temple': 0.17133936759415175, 'ancient': 0.17133936759415175, 'faith': 0.17133936759415175, 'profaned': 0.17133936759415175, 'end': 0.17133936759415175, 'action': 0.1537266891950988, 'tireless': 0.17133936759415175, 'unafraid': 0.17133936759415175, 'stagnation': 0.1537266891950988, 'despair': 0.14123029500002887, 'day': 0.14123029500002887, 'did': 0.13153733862097758, 'things': 0.13153733862097758}\n",
      "Number of features: 378\n",
      "Original sentence: On each national day of inauguration since 1789 , the people have renewed their sense of dedication to the United States .\n",
      "Tf_idf vector: {'national': 0.32342853509572994, 'day': 0.27708409465138084, 'inauguration': 0.36021418695173113, '1789': 0.32342853509572994, 'people': 0.23444321253661576, 'renewed': 0.36021418695173113, 'sense': 0.32342853509572994, 'dedication': 0.36021418695173113, 'united': 0.29732869974417347, 'states': 0.27708409465138084}\n",
      "Number of features: 182\n",
      "Original sentence: Chief Justice , Mr . Vice President , my friends , you will understand and , I believe , agree with my wish that the form of this inauguration be simple and its words brief .\n",
      "Tf_idf vector: {'chief': 0.260303526840307, 'justice': 0.260303526840307, 'mr': 0.260303526840307, 'vice': 0.260303526840307, 'president': 0.260303526840307, 'friends': 0.260303526840307, 'understand': 0.260303526840307, 'believe': 0.260303526840307, 'agree': 0.260303526840307, 'wish': 0.260303526840307, 'form': 0.260303526840307, 'inauguration': 0.260303526840307, 'simple': 0.2266914969798518, 'words': 0.260303526840307, 'brief': 0.260303526840307}\n",
      "Number of features: 606\n",
      "Original sentence: Mr . Vice President , Mr . Chief Justice , and fellow citizens , I accept with humility the honor which the American people have conferred upon me . I accept it with a deep resolve to do all that I can for the welfare of this Nation and for the peace of the world .\n",
      "Tf_idf vector: {'mr': 0.43068875143989727, 'vice': 0.21534437571994863, 'president': 0.21534437571994863, 'chief': 0.21534437571994863, 'justice': 0.1564866589747933, 'fellow': 0.21534437571994863, 'citizens': 0.21534437571994863, 'accept': 0.43068875143989727, 'humility': 0.21534437571994863, 'honor': 0.21534437571994863, 'american': 0.17229490689853727, 'people': 0.13116335028467721, 'conferred': 0.21534437571994863, 'deep': 0.21534437571994863, 'resolve': 0.1962946822957114, 'welfare': 0.1962946822957114, 'nation': 0.1962946822957114, 'peace': 0.12067954746878297, 'world': 0.10059723390924946}\n",
      "Number of features: 468\n",
      "Original sentence: The Price of Peace Mr . Chairman , Mr . Vice President , Mr . Chief Justice , Mr . Speaker , members of my family and friends , my countrymen , and the friends of my country , wherever they may be , we meet again , as upon a like moment four years ago , and again you have witnessed my solemn oath of service to you . I , too , am a witness , today testifying in your name to the principles and purposes to which we , as a people , are pledged .\n",
      "Tf_idf vector: {'price': 0.12361005261524685, 'peace': 0.089314874023755667, 'mr': 0.59821341484065038, 'chairman': 0.1495533537101626, 'vice': 0.1495533537101626, 'president': 0.1495533537101626, 'chief': 0.1495533537101626, 'justice': 0.1152581751186714, 'speaker': 0.1495533537101626, 'members': 0.1495533537101626, 'family': 0.1495533537101626, 'friends': 0.29910670742032519, 'countrymen': 0.1495533537101626, 'country': 0.1495533537101626, 'meet': 0.12361005261524685, 'like': 0.1495533537101626, 'moment': 0.1495533537101626, 'years': 0.1495533537101626, 'ago': 0.1495533537101626, 'witnessed': 0.1495533537101626, 'solemn': 0.13437749542471877, 'oath': 0.1495533537101626, 'service': 0.1495533537101626, 'witness': 0.1495533537101626, 'today': 0.13437749542471877, 'testifying': 0.1495533537101626, 'principles': 0.13437749542471877, 'purposes': 0.13437749542471877, 'people': 0.089314874023755667, 'pledged': 0.13437749542471877}\n",
      "Number of features: 412\n",
      "Original sentence: Vice President Johnson , Mr . Speaker , Mr . Chief Justice , President Eisenhower , Vice President Nixon , President Truman , reverend clergy , fellow citizens , we observe today not a victory of party , but a celebration of freedom -- symbolizing an end , as well as a beginning -- signifying renewal , as well as change . For I have sworn I before you and Almighty God the same solemn oath our forebears l prescribed nearly a century and three quarters ago .\n",
      "Tf_idf vector: {'vice': 0.26797160905184775, 'president': 0.5359432181036955, 'johnson': 0.13398580452592387, 'mr': 0.26797160905184775, 'speaker': 0.13398580452592387, 'chief': 0.13398580452592387, 'justice': 0.13398580452592387, 'eisenhower': 0.13398580452592387, 'nixon': 0.13398580452592387, 'truman': 0.13398580452592387, 'reverend': 0.13398580452592387, 'clergy': 0.13398580452592387, 'fellow': 0.10024905905322032, 'citizens': 0.10024905905322032, 'observe': 0.13398580452592387, 'today': 0.11905705683213395, 'victory': 0.13398580452592387, 'party': 0.13398580452592387, 'celebration': 0.13398580452592387, 'freedom': 0.10024905905322032, 'symbolizing': 0.13398580452592387, 'end': 0.13398580452592387, 'beginning': 0.13398580452592387, 'signifying': 0.13398580452592387, 'renewal': 0.13398580452592387, 'change': 0.13398580452592387, 'sworn': 0.13398580452592387, 'almighty': 0.13398580452592387, 'god': 0.10846494177765302, 'solemn': 0.13398580452592387, 'oath': 0.13398580452592387, 'forebears': 0.11905705683213395, 'prescribed': 0.13398580452592387, 'nearly': 0.13398580452592387, 'century': 0.11905705683213395, 'quarters': 0.13398580452592387, 'ago': 0.13398580452592387}\n",
      "Number of features: 392\n",
      "Original sentence: My fellow countrymen , on this occasion , the oath I have taken before you and before God is not mine alone , but ours together . We are one nation and one people . Our fate as a nation and our future as a people rest not upon one citizen , but upon all citizens .\n",
      "Tf_idf vector: {'fellow': 0.21388584563374688, 'countrymen': 0.28327093959716521, 'occasion': 0.28327093959716521, 'oath': 0.28327093959716521, 'taken': 0.28327093959716521, 'god': 0.23078314224134122, 'nation': 0.30836158237524919, 'people': 0.35659068977103447, 'fate': 0.28327093959716521, 'future': 0.28327093959716521, 'rest': 0.25256754639855716, 'citizen': 0.23078314224134122, 'citizens': 0.28327093959716521}\n",
      "Number of features: 373\n",
      "Original sentence: For myself and for our Nation , I want to thank my predecessor for all he has done to heal our land .\n",
      "Tf_idf vector: {'nation': 0.20776600201682532, 'want': 0.43745474929550016, 'thank': 0.43745474929550016, 'predecessor': 0.43745474929550016, 'heal': 0.43745474929550016, 'land': 0.43745474929550016}\n",
      "Number of features: 463\n",
      "Original sentence: My fellow citizens , today we celebrate the mystery of American renewal . This ceremony is held in the depth of winter , but by the words we speak and the faces we show the world , we force the spring . A spring reborn in the world ' s oldest democracy , that brings forth the vision and courage to reinvent America . When our founders boldly declared America ' s independence to the world , and our purposes to the Almighty , they knew that America , to endure , would have to change . Not change for change sake , but change to preserve America ' s ideals : life , liberty , the pursuit of happiness .\n"
     ]
    },
    {
     "name": "stdout",
     "output_type": "stream",
     "text": [
      "Tf_idf vector: {'fellow': 0.093820398050541862, 'citizens': 0.12480818209187956, 'today': 0.070983467372623316, 'celebrate': 0.11194708969516989, 'mystery': 0.14293487373650762, 'american': 0.10197125141396102, 'renewal': 0.10197125141396102, 'ceremony': 0.12480818209187956, 'held': 0.14293487373650762, 'depth': 0.14293487373650762, 'winter': 0.14293487373650762, 'words': 0.14293487373650762, 'speak': 0.14293487373650762, 'faces': 0.14293487373650762, 'world': 0.21295040211786997, 'force': 0.12480818209187956, 'spring': 0.24961636418375913, 'reborn': 0.14293487373650762, 'oldest': 0.14293487373650762, 'democracy': 0.10197125141396102, 'brings': 0.14293487373650762, 'forth': 0.12480818209187956, 'vision': 0.12480818209187956, 'courage': 0.14293487373650762, 'reinvent': 0.14293487373650762, 'america': 0.25133045603681653, 'founders': 0.12480818209187956, 'boldly': 0.14293487373650762, 'declared': 0.14293487373650762, 'independence': 0.14293487373650762, 'purposes': 0.14293487373650762, 'almighty': 0.14293487373650762, 'knew': 0.14293487373650762, 'endure': 0.14293487373650762, 'change': 0.40788500565584407, 'sake': 0.12480818209187956, 'preserve': 0.12480818209187956, 'ideals': 0.12480818209187956, 'life': 0.12480818209187956, 'liberty': 0.14293487373650762, 'pursuit': 0.14293487373650762, 'happiness': 0.14293487373650762}\n",
      "Number of features: 571\n",
      "Original sentence: My fellow citizens : At this last presidential inauguration of the 20th century , let us lift our eyes toward the challenges that await us in the next century . It is our great good fortune that time and chance have put us not only at the edge of a new century , in a new millennium , but on the edge of a bright new prospect in human affairs -- a moment that will define our course , and our character , for decades to come . We must keep our old democracy forever young . Guided by the ancient vision of a promised land , let us set our sights upon a land of new promise .\n",
      "Tf_idf vector: {'fellow': 0.099126996185143326, 'citizens': 0.10453647886094648, 'presidential': 0.15528708844995254, 'inauguration': 0.15528708844995254, '20th': 0.12720704231754792, 'century': 0.22936929818562565, 'let': 0.22156253662314218, 'lift': 0.1388613144439757, 'eyes': 0.1388613144439757, 'challenges': 0.1388613144439757, 'await': 0.15528708844995254, 'great': 0.10453647886094648, 'good': 0.1388613144439757, 'fortune': 0.15528708844995254, 'time': 0.082701222179166506, 'chance': 0.12720704231754792, 'edge': 0.31057417689990507, 'new': 0.26510179269275874, 'millennium': 0.15528708844995254, 'bright': 0.1388613144439757, 'prospect': 0.15528708844995254, 'human': 0.11816728656179366, 'affairs': 0.15528708844995254, 'moment': 0.15528708844995254, 'define': 0.15528708844995254, 'course': 0.12720704231754792, 'character': 0.15528708844995254, 'decades': 0.15528708844995254, 'come': 0.11816728656179366, 'old': 0.11816728656179366, 'democracy': 0.11816728656179366, 'forever': 0.15528708844995254, 'young': 0.15528708844995254, 'guided': 0.15528708844995254, 'ancient': 0.15528708844995254, 'vision': 0.1388613144439757, 'promised': 0.15528708844995254, 'land': 0.18871098861118857, 'set': 0.1388613144439757, 'sights': 0.15528708844995254, 'promise': 0.090087240429389065}\n",
      "Number of features: 744\n",
      "Original sentence: My fellow citizens :\n",
      "Tf_idf vector: {'fellow': 0.70710678118654757, 'citizens': 0.70710678118654757}\n",
      "Number of features: 1016\n",
      "Original sentence: Fellow citizens , In obedience to the will of the people , and in their presence , by the authority vested in me by this oath , I assume the arduous and responsible duties of President of the United States , relying upon the support of my countrymen and invoking the guidance of Almighty God . Our faith teaches that there is no safer reliance than upon the God of our fathers , who has so singularly favored the American people in every national trial , and who will not forsake us so long as we obey His commandments and walk humbly in His footsteps .\n",
      "Tf_idf vector: {'fellow': 0.14904781634805289, 'citizens': 0.097677696424801216, 'obedience': 0.17028371562843619, 'people': 0.12274937364596746, 'presence': 0.14904781634805289, 'authority': 0.14904781634805289, 'vested': 0.14904781634805289, 'oath': 0.14904781634805289, 'assume': 0.17028371562843619, 'arduous': 0.17028371562843619, 'responsible': 0.17028371562843619, 'duties': 0.14904781634805289, 'president': 0.1046712925390869, 'united': 0.085990737705010492, 'states': 0.085990737705010492, 'relying': 0.17028371562843619, 'support': 0.12229374730682796, 'countrymen': 0.14904781634805289, 'invoking': 0.17028371562843619, 'guidance': 0.17028371562843619, 'almighty': 0.17028371562843619, 'god': 0.34056743125687239, 'faith': 0.17028371562843619, 'teaches': 0.17028371562843619, 'safer': 0.14904781634805289, 'reliance': 0.14904781634805289, 'fathers': 0.17028371562843619, 'singularly': 0.17028371562843619, 'favored': 0.17028371562843619, 'american': 0.1127448067462354, 'national': 0.13398070602661871, 'trial': 0.12229374730682796, 'forsake': 0.17028371562843619, 'long': 0.14904781634805289, 'obey': 0.17028371562843619, 'commandments': 0.17028371562843619, 'walk': 0.17028371562843619, 'humbly': 0.17028371562843619, 'footsteps': 0.17028371562843619}\n",
      "Number of features: 683\n",
      "Original sentence: My fellow - citizens , when we assembled here on the 4th of March , 1897 , there was great anxiety with regard to our currency and credit . None exists now . Then our Treasury receipts were inadequate to meet the current obligations of the Government . Now they are sufficient for all public needs , and we have a surplus instead of a deficit . Then I felt constrained to convene the Congress in extraordinary session to devise revenues to pay the ordinary expenses of the Government . Now I have the satisfaction to announce that the Congress just closed has reduced taxation in the sum of $ 41 , 000 , 000 . Then there was deep solicitude because of the long depression in our manufacturing , mining , agricultural , and mercantile industries and the consequent distress of our laboring population . Now every avenue of production is crowded with activity , labor is well employed , and American products find good markets at home and abroad .\n"
     ]
    },
    {
     "name": "stdout",
     "output_type": "stream",
     "text": [
      "Tf_idf vector: {'fellow': 0.10287378294496817, 'citizens': 0.10287378294496817, 'assembled': 0.11978620341297963, '4th': 0.11978620341297963, 'march': 0.11978620341297963, '1897': 0.11978620341297963, 'great': 0.081566653028723943, 'anxiety': 0.11978620341297963, 'regard': 0.11978620341297963, 'currency': 0.11978620341297963, 'credit': 0.11978620341297963, 'exists': 0.11978620341297963, 'treasury': 0.11978620341297963, 'receipts': 0.11978620341297963, 'inadequate': 0.11978620341297963, 'meet': 0.10287378294496817, 'current': 0.11978620341297963, 'obligations': 0.090874229658830588, 'government': 0.16313330605744789, 'sufficient': 0.11978620341297963, 'public': 0.067532005342018073, 'needs': 0.11978620341297963, 'surplus': 0.11978620341297963, 'instead': 0.11978620341297963, 'deficit': 0.11978620341297963, 'felt': 0.11978620341297963, 'constrained': 0.11978620341297963, 'convene': 0.11978620341297963, 'congress': 0.14792361838163823, 'extraordinary': 0.11978620341297963, 'session': 0.10287378294496817, 'devise': 0.11978620341297963, 'revenues': 0.11978620341297963, 'pay': 0.11978620341297963, 'ordinary': 0.11978620341297963, 'expenses': 0.11978620341297963, 'satisfaction': 0.11978620341297963, 'announce': 0.11978620341297963, 'just': 0.11978620341297963, 'closed': 0.11978620341297963, 'reduced': 0.11978620341297963, 'taxation': 0.11978620341297963, 'sum': 0.10287378294496817, '41': 0.11978620341297963, '000': 0.23957240682595926, 'deep': 0.11978620341297963, 'solicitude': 0.11978620341297963, 'long': 0.10287378294496817, 'depression': 0.11978620341297963, 'manufacturing': 0.11978620341297963, 'mining': 0.11978620341297963, 'agricultural': 0.11978620341297963, 'mercantile': 0.11978620341297963, 'industries': 0.11978620341297963, 'consequent': 0.11978620341297963, 'distress': 0.11978620341297963, 'laboring': 0.11978620341297963, 'population': 0.11978620341297963, 'avenue': 0.11978620341297963, 'production': 0.11978620341297963, 'crowded': 0.11978620341297963, 'activity': 0.11978620341297963, 'labor': 0.11978620341297963, 'employed': 0.11978620341297963, 'american': 0.067532005342018073, 'products': 0.11978620341297963, 'good': 0.10287378294496817, 'markets': 0.10287378294496817, 'home': 0.10287378294496817, 'abroad': 0.11978620341297963}\n",
      "Number of features: 278\n",
      "Original sentence: My fellow citizens , no people on earth have more cause to be thankful than ours , and this is said reverently , in no spirit of boastfulness in our own strength , but with gratitude to the Giver of Good who has blessed us with the conditions which have enabled us to achieve so large a measure of well - being and of happiness . To us as a people it has been granted to lay the foundations of our national life in a new continent . We are the heirs of the ages , and yet we have had to pay few of the penalties which in old countries are exacted by the dead hand of a bygone civilization . We have not been obliged to fight for our existence against any alien race ; and yet our life has called for the vigor and effort without which the manlier and hardier virtues wither away . Under such conditions it would be our own fault if we failed ; and the success which we have had in the past , the success which we confidently believe the future will bring , should cause in us no feeling of vainglory , but rather a deep and abiding realization of all which life has offered us ; a full acknowledgment of the responsibility which is ours ; and a fixed determination to show that under a free government a mighty people can thrive best , alike as regards the things of the body and the things of the soul .\n",
      "Tf_idf vector: {'fellow': 0.10831324784558365, 'citizens': 0.10831324784558365, 'people': 0.20740482916387185, 'earth': 0.085395408701048212, 'cause': 0.1382698861092479, 'thankful': 0.10831324784558365, 'said': 0.10831324784558365, 'reverently': 0.10831324784558365, 'spirit': 0.069134943054623949, 'boastfulness': 0.10831324784558365, 'strength': 0.10831324784558365, 'gratitude': 0.10831324784558365, 'giver': 0.10831324784558365, 'good': 0.069134943054623949, 'blessed': 0.10831324784558365, 'conditions': 0.17079081740209642, 'enabled': 0.10831324784558365, 'achieve': 0.10831324784558365, 'large': 0.085395408701048212, 'measure': 0.10831324784558365, 'happiness': 0.10831324784558365, 'granted': 0.10831324784558365, 'lay': 0.10831324784558365, 'foundations': 0.085395408701048212, 'national': 0.085395408701048212, 'life': 0.20740482916387185, 'new': 0.085395408701048212, 'continent': 0.085395408701048212, 'heirs': 0.10831324784558365, 'ages': 0.10831324784558365, 'pay': 0.10831324784558365, 'penalties': 0.10831324784558365, 'old': 0.10831324784558365, 'countries': 0.10831324784558365, 'exacted': 0.10831324784558365, 'dead': 0.10831324784558365, 'hand': 0.10831324784558365, 'bygone': 0.10831324784558365, 'civilization': 0.10831324784558365, 'obliged': 0.10831324784558365, 'fight': 0.10831324784558365, 'existence': 0.085395408701048212, 'alien': 0.10831324784558365, 'race': 0.10831324784558365, 'called': 0.10831324784558365, 'vigor': 0.10831324784558365, 'effort': 0.10831324784558365, 'manlier': 0.10831324784558365, 'hardier': 0.10831324784558365, 'virtues': 0.10831324784558365, 'wither': 0.10831324784558365, 'away': 0.10831324784558365, 'fault': 0.10831324784558365, 'failed': 0.10831324784558365, 'success': 0.17079081740209642, 'past': 0.085395408701048212, 'confidently': 0.10831324784558365, 'believe': 0.10831324784558365, 'future': 0.085395408701048212, 'bring': 0.10831324784558365, 'feeling': 0.10831324784558365, 'vainglory': 0.10831324784558365, 'deep': 0.10831324784558365, 'abiding': 0.10831324784558365, 'realization': 0.10831324784558365, 'offered': 0.10831324784558365, 'acknowledgment': 0.10831324784558365, 'responsibility': 0.085395408701048212, 'fixed': 0.10831324784558365, 'determination': 0.10831324784558365, 'free': 0.085395408701048212, 'government': 0.069134943054623949, 'mighty': 0.085395408701048212, 'thrive': 0.10831324784558365, 'best': 0.10831324784558365, 'alike': 0.10831324784558365, 'regards': 0.085395408701048212, 'things': 0.21662649569116729, 'body': 0.10831324784558365, 'soul': 0.10831324784558365}\n",
      "Number of features: 1193\n",
      "Original sentence: My fellow citizens : Anyone who has taken the oath I have just taken must feel a heavy weight of responsibility . If not , he has no conception of the powers and duties of the office upon which he is about to enter , or he is lacking in a proper sense of the obligation which the oath imposes .\n",
      "Tf_idf vector: {'fellow': 0.1737879986309975, 'citizens': 0.16380759662094782, 'taken': 0.34757599726199501, 'oath': 0.44789271266303321, 'just': 0.1737879986309975, 'feel': 0.22394635633151661, 'heavy': 0.20175092946523007, 'weight': 0.22394635633151661, 'responsibility': 0.22394635633151661, 'conception': 0.22394635633151661, 'powers': 0.20175092946523007, 'duties': 0.1737879986309975, 'office': 0.1737879986309975, 'enter': 0.20175092946523007, 'lacking': 0.22394635633151661, 'proper': 0.13062732381780981, 'sense': 0.22394635633151661, 'obligation': 0.20175092946523007, 'imposes': 0.22394635633151661}\n",
      "Number of features: 968\n",
      "Original sentence: My Countrymen :\n",
      "Tf_idf vector: {'countrymen': 1.0}\n",
      "Number of features: 1001\n",
      "Original sentence: My countrymen ,\n",
      "Tf_idf vector: {'countrymen': 1.0}\n",
      "Number of features: 855\n",
      "Original sentence: My Countrymen : This occasion is not alone the administration of the most sacred oath which can be assumed by an American citizen . It is a dedication and consecration under God to the highest office in service of our people . I assume this trust in the humility of knowledge that only through the guidance of Almighty Providence can I hope to discharge its ever - increasing burdens .\n"
     ]
    },
    {
     "name": "stdout",
     "output_type": "stream",
     "text": [
      "Tf_idf vector: {'countrymen': 0.16946444963274582, 'occasion': 0.199141885306999, 'administration': 0.15887211435815318, 'sacred': 0.22269819122470405, 'oath': 0.199141885306999, 'assumed': 0.22269819122470405, 'american': 0.16946444963274582, 'citizen': 0.199141885306999, 'dedication': 0.22269819122470405, 'consecration': 0.22269819122470405, 'god': 0.199141885306999, 'highest': 0.18242842027585821, 'office': 0.16946444963274582, 'service': 0.14215864932701239, 'people': 0.1139521023139965, 'assume': 0.22269819122470405, 'trust': 0.22269819122470405, 'humility': 0.22269819122470405, 'knowledge': 0.18242842027585821, 'guidance': 0.199141885306999, 'almighty': 0.199141885306999, 'providence': 0.22269819122470405, 'hope': 0.15887211435815318, 'discharge': 0.22269819122470405, 'increasing': 0.199141885306999, 'burdens': 0.199141885306999}\n",
      "Number of features: 718\n",
      "Original sentence: My friends , before I begin the expression of those thoughts that I deem appropriate to this moment , would you permit me the privilege of uttering a little private prayer of my own . And I ask that you bow your heads :\n",
      "Tf_idf vector: {'friends': 0.20586989304486969, 'begin': 0.26168705531523739, 'expression': 0.26168705531523739, 'thoughts': 0.26168705531523739, 'deem': 0.26168705531523739, 'appropriate': 0.26168705531523739, 'moment': 0.21946300206586325, 'permit': 0.26168705531523739, 'privilege': 0.23698756753590022, 'uttering': 0.26168705531523739, 'little': 0.26168705531523739, 'private': 0.26168705531523739, 'prayer': 0.23698756753590022, 'ask': 0.23698756753590022, 'bow': 0.26168705531523739, 'heads': 0.23698756753590022}\n",
      "Number of features: 468\n",
      "Original sentence: The Price of Peace Mr . Chairman , Mr . Vice President , Mr . Chief Justice , Mr . Speaker , members of my family and friends , my countrymen , and the friends of my country , wherever they may be , we meet again , as upon a like moment four years ago , and again you have witnessed my solemn oath of service to you . I , too , am a witness , today testifying in your name to the principles and purposes to which we , as a people , are pledged .\n",
      "Tf_idf vector: {'price': 0.12361005261524685, 'peace': 0.089314874023755667, 'mr': 0.59821341484065038, 'chairman': 0.1495533537101626, 'vice': 0.1495533537101626, 'president': 0.1495533537101626, 'chief': 0.1495533537101626, 'justice': 0.1152581751186714, 'speaker': 0.1495533537101626, 'members': 0.1495533537101626, 'family': 0.1495533537101626, 'friends': 0.29910670742032519, 'countrymen': 0.1495533537101626, 'country': 0.1495533537101626, 'meet': 0.12361005261524685, 'like': 0.1495533537101626, 'moment': 0.1495533537101626, 'years': 0.1495533537101626, 'ago': 0.1495533537101626, 'witnessed': 0.1495533537101626, 'solemn': 0.13437749542471877, 'oath': 0.1495533537101626, 'service': 0.1495533537101626, 'witness': 0.1495533537101626, 'today': 0.13437749542471877, 'testifying': 0.1495533537101626, 'principles': 0.13437749542471877, 'purposes': 0.13437749542471877, 'people': 0.089314874023755667, 'pledged': 0.13437749542471877}\n",
      "Number of features: 569\n",
      "Original sentence: Senator Dirksen , Mr . Chief Justice , Mr . Vice President , President Johnson , Vice President Humphrey , my fellow Americans -- and my fellow citizens of the world community :\n",
      "Tf_idf vector: {'senator': 0.18136151174598675, 'dirksen': 0.18136151174598675, 'mr': 0.3627230234919735, 'chief': 0.18136151174598675, 'justice': 0.18136151174598675, 'vice': 0.3627230234919735, 'president': 0.54408453523796019, 'johnson': 0.18136151174598675, 'humphrey': 0.18136151174598675, 'fellow': 0.3627230234919735, 'americans': 0.18136151174598675, 'citizens': 0.18136151174598675, 'world': 0.11506546708856556, 'community': 0.18136151174598675}\n",
      "Number of features: 382\n",
      "Original sentence: Mr . Vice President , Mr . Speaker , Mr . Chief Justice , Senator Cook , Mrs . Eisenhower , and my fellow citizens of this great and good country we share together :\n",
      "Tf_idf vector: {'mr': 0.62589145724903117, 'vice': 0.20863048574967705, 'president': 0.20863048574967705, 'speaker': 0.20863048574967705, 'chief': 0.20863048574967705, 'justice': 0.20863048574967705, 'senator': 0.20863048574967705, 'cook': 0.20863048574967705, 'mrs': 0.20863048574967705, 'eisenhower': 0.20863048574967705, 'fellow': 0.20863048574967705, 'citizens': 0.20863048574967705, 'great': 0.14070735075967797, 'good': 0.20863048574967705, 'country': 0.17466891825467751, 'share': 0.18876424229939179}\n",
      "Number of features: 681\n",
      "Original sentence: Senator Hatfield , Mr . Chief Justice , Mr . President , Vice President Bush , Vice President Mondale , Senator Baker , Speaker O ' Neill , Reverend Moomaw , and my fellow citizens : To a few of us here today , this is a solemn and most momentous occasion ; and yet , in the history of our Nation , it is a commonplace occurrence . The orderly transfer of authority as called for in the Constitution routinely takes place as it has for almost two centuries and few of us stop to think how unique we really are . In the eyes of many in the world , this every - 4 - year ceremony we accept as normal is nothing less than a miracle .\n",
      "Tf_idf vector: {'senator': 0.27322869646662673, 'hatfield': 0.13661434823331337, 'mr': 0.24550293924201755, 'chief': 0.13661434823331337, 'justice': 0.13661434823331337, 'president': 0.33874680214483222, 'vice': 0.27322869646662673, 'bush': 0.13661434823331337, 'mondale': 0.13661434823331337, 'baker': 0.13661434823331337, 'speaker': 0.13661434823331337, 'neill': 0.13661434823331337, 'reverend': 0.13661434823331337, 'moomaw': 0.13661434823331337, 'fellow': 0.11291560071494409, 'citizens': 0.11291560071494409, 'today': 0.09905272210263949, 'solemn': 0.13661434823331337, 'momentous': 0.13661434823331337, 'occasion': 0.13661434823331337, 'history': 0.11291560071494409, 'nation': 0.093782300259388218, 'commonplace': 0.13661434823331337, 'occurrence': 0.13661434823331337, 'orderly': 0.13661434823331337, 'transfer': 0.13661434823331337, 'authority': 0.13661434823331337, 'called': 0.10528630807513885, 'constitution': 0.13661434823331337, 'routinely': 0.13661434823331337, 'takes': 0.13661434823331337, 'place': 0.11291560071494409, 'centuries': 0.13661434823331337, 'stop': 0.13661434823331337, 'think': 0.11291560071494409, 'unique': 0.13661434823331337, 'really': 0.13661434823331337, 'eyes': 0.13661434823331337, 'world': 0.085189843490334899, 'year': 0.13661434823331337, 'ceremony': 0.12275146962100877, 'accept': 0.13661434823331337, 'normal': 0.13661434823331337, 'miracle': 0.13661434823331337}\n",
      "Number of features: 705\n",
      "Original sentence: Senator Mathias , Chief Justice Burger , Vice President Bush , Speaker O ' Neill , Senator Dole , Reverend Clergy , members of my family and friends , and my fellow citizens :\n",
      "Tf_idf vector: {'senator': 0.39681379882654244, 'mathias': 0.21531940369123209, 'chief': 0.23915623967131414, 'justice': 0.23915623967131414, 'burger': 0.23915623967131414, 'vice': 0.23915623967131414, 'president': 0.19840689941327122, 'bush': 0.23915623967131414, 'speaker': 0.23915623967131414, 'neill': 0.23915623967131414, 'dole': 0.23915623967131414, 'reverend': 0.23915623967131414, 'clergy': 0.23915623967131414, 'members': 0.19840689941327122, 'family': 0.19840689941327122, 'friends': 0.19840689941327122, 'fellow': 0.19840689941327122, 'citizens': 0.16550771898534022}\n",
      "Number of features: 585\n",
      "Original sentence: Mr . Chief Justice , Mr . President , Vice President Quayle , Senator Mitchell , Speaker Wright , Senator Dole , Congressman Michael , and fellow citizens , neighbors , and friends :\n",
      "Tf_idf vector: {'mr': 0.38364281897570573, 'chief': 0.21537171518639339, 'justice': 0.19182140948785287, 'president': 0.30312379196283856, 'vice': 0.21537171518639339, 'quayle': 0.21537171518639339, 'senator': 0.43074343037278678, 'mitchell': 0.21537171518639339, 'speaker': 0.19182140948785287, 'wright': 0.21537171518639339, 'dole': 0.21537171518639339, 'congressman': 0.21537171518639339, 'michael': 0.21537171518639339, 'fellow': 0.19182140948785287, 'citizens': 0.19182140948785287, 'neighbors': 0.19182140948785287, 'friends': 0.14260848529089609}\n",
      "Number of features: 455\n"
     ]
    },
    {
     "name": "stdout",
     "output_type": "stream",
     "text": [
      "Original sentence: President Clinton , distinguished guests and my fellow citizens , the peaceful transfer of authority is rare in history , yet common in our country . With a simple oath , we affirm old traditions and make new beginnings .\n",
      "Tf_idf vector: {'president': 0.20046773203820425, 'clinton': 0.21682491049139002, 'distinguished': 0.23987905868123649, 'guests': 0.23987905868123649, 'fellow': 0.23987905868123649, 'citizens': 0.16864880348813219, 'peaceful': 0.23987905868123649, 'transfer': 0.23987905868123649, 'authority': 0.23987905868123649, 'rare': 0.23987905868123649, 'history': 0.20046773203820425, 'common': 0.18778011873502934, 'country': 0.15435943565851129, 'simple': 0.21682491049139002, 'oath': 0.23987905868123649, 'affirm': 0.20046773203820425, 'old': 0.21682491049139002, 'traditions': 0.23987905868123649, 'make': 0.20046773203820425, 'new': 0.18778011873502934, 'beginnings': 0.23987905868123649}\n",
      "Number of features: 606\n"
     ]
    },
    {
     "name": "stdout",
     "output_type": "stream",
     "text": [
      "Original sentence: rep15 Vice President Cheney , Mr . Chief Justice , President Carter , President Bush , President Clinton , members of the United States Congress , reverend clergy , distinguished guests , fellow citizens : On this day , prescribed by law and marked by ceremony , we celebrate the durable wisdom of our Constitution , and recall the deep commitments that unite our country . I am grateful for the honor of this hour , mindful of the consequential times in which we live , and determined to fulfill the oath that I have sworn and you have witnessed . At this second gathering , our duties are defined not by the words I use , but by the history we have seen together . For a half a century , America defended our own freedom by standing watch on distant borders . After the shipwreck of communism came years of relative quiet , years of repose , years of sabbatical ¡ Xand then there came a day of fire . We have seen our vulnerability ¡ Xand we have seen its deepest source . For as long as whole regions of the world simmer in resentment and tyranny ¡ Xprone to ideologies that feed hatred and excuse murder ¡ Xviolence will gather , and multiply in destructive power , and cross the most defended borders , and raise a mortal threat . There is only one force of history that can break the reign of hatred and resentment , and expose the pretensions of tyrants , and reward the hopes of the decent and tolerant , and that is the force of human freedom . We are led , by events and common sense , to one conclusion : The survival of liberty in our land increasingly depends on the success of liberty in other lands . The best hope for peace in our world is the expansion of freedom in all the world . America ¡¦ s vital interests and our deepest beliefs are now one . From the day of our Founding , we have proclaimed that every man and woman on this earth has rights , and dignity , and matchless value , because they bear the image of the Maker of Heaven and earth . Across the generations we have proclaimed the imperative of self - government , because no one is fit to be a master , and no one deserves to be a slave . Advancing these ideals is the mission that created our Nation . It is the honorable achievement of our fathers . Now it is the urgent requirement of our nation ¡¦ s security , and the calling of our time . So it is the policy of the United States to seek and support the growth of democratic movements and institutions in every nation and culture , with the ultimate goal of ending tyranny in our world . This is not primarily the task of arms , though we will defend ourselves and our friends by force of arms when necessary . Freedom , by its nature , must be chosen , and defended by citizens , and sustained by the rule of law and the protection of minorities . And when the soul of a nation finally speaks , the institutions that arise may reflect customs and traditions very different from our own . America will not impose our own style of government on the unwilling . Our goal instead is to help others find their own voice , attain their own freedom , and make their own way . The great objective of ending tyranny is the concentrated work of generations . The difficulty of the task is no excuse for avoiding it . America ¡¦ s influence is not unlimited , but fortunately for the oppressed , America ¡¦ s influence is considerable , and we will use it confidently in freedom ¡¦ s cause . My most solemn duty is to protect this nation and its people from further attacks and emerging threats . Some have unwisely chosen to test America ¡¦ s resolve , and have found it firm . We will persistently clarify the choice before every ruler and every nation : The moral choice between oppression , which is always wrong , and freedom , which is eternally right . America will not pretend that jailed dissidents prefer their chains , or that women welcome humiliation and servitude , or that any human being aspires to live at the mercy of bullies . We will encourage reform in other governments by making clear that success in our relations will require the decent treatment of their own people . America ¡¦ s belief in human dignity will guide our policies , yet rights must be more than the grudging concessions of dictators ; they are secured by free dissent and the participation of the governed . In the long run , there is no justice without freedom , and there can be no human rights without human liberty . Some , I know , have questioned the global appeal of liberty ¡ Xthough this time in history , four decades defined by the swiftest advance of freedom ever seen , is an odd time for doubt . Americans , of all people , should never be surprised by the power of our ideals . Eventually , the call of freedom comes to every mind and every soul . We do not accept the existence of permanent tyranny because we do not accept the possibility of permanent slavery . Liberty will come to those who love it . Today , America speaks anew to the peoples of the world : All who live in tyranny and hopelessness can know : the United States will not ignore your oppression , or excuse your oppressors . When you stand for your liberty , we will stand with you . Democratic reformers facing repression , prison , or exile can know : America sees you for who you are : the future leaders of your free country . The rulers of outlaw regimes can know that we still believe as Abraham Lincoln did : ¡§ Those who deny freedom to others deserve it not for themselves ; and , under the rule of a just God , cannot long retain it .¡¨ The leaders of governments with long habits of control need to know : To serve your people you must learn to trust them . Start on this journey of progress and justice , and America will walk at your side . And all the allies of the United States can know : we honor your friendship , we rely on your counsel , and we depend on your help . Division among free nations is a primary goal of freedom ¡¦ s enemies . The concerted effort of free nations to promote democracy is a prelude to our enemies ¡¦ defeat . Today , I also speak anew to my fellow citizens : From all of you , I have asked patience in the hard task of securing America , which you have granted in good measure . Our country has accepted obligations that are difficult to fulfill , and would be dishonorable to abandon . Yet because we have acted in the great liberating tradition of this nation , tens of millions have achieved their freedom . And as hope kindles hope , millions more will find it . By our efforts , we have lit a fire as well ¡ Xa fire in the minds of men . It warms those who feel its power , it burns those who fight its progress , and one day this untamed fire of freedom will reach the darkest corners of our world . A few Americans have accepted the hardest duties in this cause ¡ Xin the quiet work of intelligence and diplomacy ¡ K the idealistic work of helping raise up free governments ¡ K the dangerous and necessary work of fighting our enemies . Some have shown their devotion to our country in deaths that honored their whole lives ¡ Xand we will always honor their names and their sacrifice . All Americans have witnessed this idealism , and some for the first time . I ask our youngest citizens to believe the evidence of your eyes . You have seen duty and allegiance in the determined faces of our soldiers . You have seen that life is fragile , and evil is real , and courage triumphs . Make the choice to serve in a cause larger than your wants , larger than yourself ¡ Xand in your days you will add not just to the wealth of our country , but to its character . America has need of idealism and courage , because we have essential work at home ¡ Xthe unfinished work of American freedom . In a world moving toward liberty , we are determined to show the meaning and promise of liberty . In America ¡¦ s ideal of freedom , citizens find the dignity and security of economic independence , instead of laboring on the edge of subsistence . This is the broader definition of liberty that motivated the Homestead Act , the Social Security Act , and the G . I . Bill of Rights . And now we will extend this vision by reforming great institutions to serve the needs of our time . To give every American a stake in the promise and future of our country , we will bring the highest standards to our schools , and build an ownership society . We will widen the ownership of homes and businesses , retirement savings and health insurance ¡ Xpreparing our people for the challenges of life in a free society . By making every citizen an agent of his or her own destiny , we will give our fellow Americans greater freedom from want and fear , and make our society more prosperous and just and equal . In America ¡¦ s ideal of freedom , the public interest depends on private character ¡ Xon integrity , and tolerance toward others , and the rule of conscience in our own lives . Self - government relies , in the end , on the governing of the self . That edifice of character is built in families , supported by communities with standards , and sustained in our national life by the truths of Sinai , the Sermon on the Mount , the words of the Koran , and the varied faiths of our people . Americans move forward in every generation by reaffirming all that is good and true that came before ¡ Xideals of justice and conduct that are the same yesterday , today , and forever . In America ¡¦ s ideal of freedom , the exercise of rights is ennobled by service , and mercy , and a heart for the weak . Liberty for all does not mean independence from one another . Our nation relies on men and women who look after a neighbor and surround the lost with love . Americans , at our best , value the life we see in one another , and must always remember that even the unwanted have worth . And our country must abandon all the habits of racism , because we cannot carry the message of freedom and the baggage of bigotry at the same time . From the perspective of a single day , including this day of dedication , the issues and questions before our country are many . From the viewpoint of centuries , the questions that come to us are narrowed and few . Did our generation advance the cause of freedom ? And did our character bring credit to that cause ? These questions that judge us also unite us , because Americans of every party and background , Americans by choice and by birth , are bound to one another in the cause of freedom . We have known divisions , which must be healed to move forward in great purposes ¡ Xand I will strive in good faith to heal them . Yet those divisions do not define America . We felt the unity and fellowship of our nation when freedom came under attack , and our response came like a single hand over a single heart . And we can feel that same unity and pride whenever America acts for good , and the victims of disaster are given hope , and the unjust encounter justice , and the captives are set free . We go forward with complete confidence in the eventual triumph of freedom . Not because history runs on the wheels of inevitability ; it is human choices that move events . Not because we consider ourselves a chosen nation ; God moves and chooses as He wills . We have confidence because freedom is the permanent hope of mankind , the hunger in dark places , the longing of the soul . When our Founders declared a new order of the ages ; when soldiers died in wave upon wave for a union based on liberty ; when citizens marched in peaceful outrage under the banner ¡§ Freedom Now ¡¨¡ Xthey were acting on an ancient hope that is meant to be fulfilled . History has an ebb and flow of justice , but history also has a visible direction , set by liberty and the Author of Liberty . When the Declaration of Independence was first read in public and the Liberty Bell was sounded in celebration , a witness said , ¡§ It rang as if it meant something .¡¨ In our time it means something still . America , in this young century , proclaims liberty throughout all the world , and to all the inhabitants thereof . Renewed in our strength ¡ Xtested , but not weary ¡ Xwe are ready for the greatest achievements in the history of freedom . May God bless you , and may He watch over the United States of America .\n"
     ]
    },
    {
     "name": "stdout",
     "output_type": "stream",
     "text": [
      "Tf_idf vector: {'rep15': 0.016910333934197906, 'vice': 0.016910333934197906, 'president': 0.067641335736791625, 'cheney': 0.016910333934197906, 'mr': 0.016910333934197906, 'chief': 0.016910333934197906, 'justice': 0.10146200360518744, 'carter': 0.016910333934197906, 'bush': 0.016910333934197906, 'clinton': 0.016910333934197906, 'members': 0.016910333934197906, 'united': 0.084551669670989524, 'states': 0.084551669670989524, 'congress': 0.016910333934197906, 'reverend': 0.016910333934197906, 'clergy': 0.016910333934197906, 'distinguished': 0.016910333934197906, 'guests': 0.016910333934197906, 'fellow': 0.050731001802593718, 'citizens': 0.10146200360518744, 'day': 0.10146200360518744, 'prescribed': 0.016910333934197906, 'law': 0.033820667868395812, 'marked': 0.016910333934197906, 'ceremony': 0.016910333934197906, 'celebrate': 0.016910333934197906, 'durable': 0.016910333934197906, 'wisdom': 0.016910333934197906, 'constitution': 0.016910333934197906, 'recall': 0.016910333934197906, 'deep': 0.016910333934197906, 'commitments': 0.016910333934197906, 'unite': 0.033820667868395812, 'country': 0.13528267147358325, 'grateful': 0.016910333934197906, 'honor': 0.050731001802593718, 'hour': 0.016910333934197906, 'mindful': 0.016910333934197906, 'consequential': 0.016910333934197906, 'times': 0.016910333934197906, 'live': 0.050731001802593718, 'determined': 0.050731001802593718, 'fulfill': 0.033820667868395812, 'oath': 0.016910333934197906, 'sworn': 0.016910333934197906, 'witnessed': 0.033820667868395812, 'second': 0.016910333934197906, 'gathering': 0.016910333934197906, 'duties': 0.033820667868395812, 'defined': 0.033820667868395812, 'words': 0.033820667868395812, 'use': 0.033820667868395812, 'history': 0.11837233753938534, 'seen': 0.10146200360518744, 'half': 0.016910333934197906, 'century': 0.033820667868395812, 'america': 0.3382066786839581, 'defended': 0.050731001802593718, 'freedom': 0.45657901622334346, 'standing': 0.016910333934197906, 'watch': 0.033820667868395812, 'distant': 0.016910333934197906, 'borders': 0.033820667868395812, 'shipwreck': 0.016910333934197906, 'communism': 0.016910333934197906, 'came': 0.084551669670989524, 'years': 0.050731001802593718, 'relative': 0.016910333934197906, 'quiet': 0.033820667868395812, 'repose': 0.016910333934197906, 'sabbatical': 0.016910333934197906, 'xand': 0.084551669670989524, 'vulnerability': 0.016910333934197906, 'deepest': 0.033820667868395812, 'source': 0.016910333934197906, 'long': 0.067641335736791625, 'regions': 0.016910333934197906, 'world': 0.13528267147358325, 'simmer': 0.016910333934197906, 'resentment': 0.033820667868395812, 'tyranny': 0.084551669670989524, 'xprone': 0.016910333934197906, 'ideologies': 0.016910333934197906, 'feed': 0.016910333934197906, 'hatred': 0.033820667868395812, 'excuse': 0.050731001802593718, 'murder': 0.016910333934197906, 'xviolence': 0.016910333934197906, 'gather': 0.016910333934197906, 'multiply': 0.016910333934197906, 'destructive': 0.016910333934197906, 'power': 0.050731001802593718, 'cross': 0.016910333934197906, 'raise': 0.033820667868395812, 'mortal': 0.016910333934197906, 'threat': 0.016910333934197906, 'force': 0.050731001802593718, 'break': 0.016910333934197906, 'reign': 0.016910333934197906, 'expose': 0.016910333934197906, 'pretensions': 0.016910333934197906, 'tyrants': 0.016910333934197906, 'reward': 0.016910333934197906, 'hopes': 0.016910333934197906, 'decent': 0.033820667868395812, 'tolerant': 0.016910333934197906, 'human': 0.10146200360518744, 'led': 0.016910333934197906, 'events': 0.033820667868395812, 'common': 0.016910333934197906, 'sense': 0.016910333934197906, 'conclusion': 0.016910333934197906, 'survival': 0.016910333934197906, 'liberty': 0.25365500901296861, 'land': 0.016910333934197906, 'increasingly': 0.016910333934197906, 'depends': 0.033820667868395812, 'success': 0.033820667868395812, 'lands': 0.016910333934197906, 'best': 0.033820667868395812, 'hope': 0.10146200360518744, 'peace': 0.016910333934197906, 'expansion': 0.016910333934197906, 'vital': 0.016910333934197906, 'interests': 0.016910333934197906, 'beliefs': 0.016910333934197906, 'founding': 0.016910333934197906, 'proclaimed': 0.033820667868395812, 'man': 0.016910333934197906, 'woman': 0.016910333934197906, 'earth': 0.033820667868395812, 'rights': 0.084551669670989524, 'dignity': 0.050731001802593718, 'matchless': 0.016910333934197906, 'value': 0.033820667868395812, 'bear': 0.016910333934197906, 'image': 0.016910333934197906, 'maker': 0.016910333934197906, 'heaven': 0.016910333934197906, 'generations': 0.033820667868395812, 'imperative': 0.016910333934197906, 'self': 0.050731001802593718, 'government': 0.050731001802593718, 'fit': 0.016910333934197906, 'master': 0.016910333934197906, 'deserves': 0.016910333934197906, 'slave': 0.016910333934197906, 'advancing': 0.016910333934197906, 'ideals': 0.033820667868395812, 'mission': 0.016910333934197906, 'created': 0.016910333934197906, 'nation': 0.16910333934197905, 'honorable': 0.016910333934197906, 'achievement': 0.016910333934197906, 'fathers': 0.016910333934197906, 'urgent': 0.016910333934197906, 'requirement': 0.016910333934197906, 'security': 0.050731001802593718, 'calling': 0.016910333934197906, 'time': 0.11837233753938534, 'policy': 0.016910333934197906, 'seek': 0.016910333934197906, 'support': 0.016910333934197906, 'growth': 0.016910333934197906, 'democratic': 0.033820667868395812, 'movements': 0.016910333934197906, 'institutions': 0.050731001802593718, 'culture': 0.016910333934197906, 'ultimate': 0.016910333934197906, 'goal': 0.050731001802593718, 'ending': 0.033820667868395812, 'primarily': 0.016910333934197906, 'task': 0.050731001802593718, 'arms': 0.033820667868395812, 'defend': 0.016910333934197906, 'friends': 0.016910333934197906, 'necessary': 0.033820667868395812, 'nature': 0.016910333934197906, 'chosen': 0.050731001802593718, 'sustained': 0.033820667868395812, 'rule': 0.050731001802593718, 'protection': 0.016910333934197906, 'minorities': 0.016910333934197906, 'soul': 0.050731001802593718, 'finally': 0.016910333934197906, 'speaks': 0.033820667868395812, 'arise': 0.016910333934197906, 'reflect': 0.016910333934197906, 'customs': 0.016910333934197906, 'traditions': 0.016910333934197906, 'different': 0.016910333934197906, 'impose': 0.016910333934197906, 'style': 0.016910333934197906, 'unwilling': 0.016910333934197906, 'instead': 0.033820667868395812, 'help': 0.033820667868395812, 'voice': 0.016910333934197906, 'attain': 0.016910333934197906, 'make': 0.050731001802593718, 'way': 0.016910333934197906, 'great': 0.067641335736791625, 'objective': 0.016910333934197906, 'concentrated': 0.016910333934197906, 'work': 0.10146200360518744, 'difficulty': 0.016910333934197906, 'avoiding': 0.016910333934197906, 'influence': 0.033820667868395812, 'unlimited': 0.016910333934197906, 'fortunately': 0.016910333934197906, 'oppressed': 0.016910333934197906, 'considerable': 0.016910333934197906, 'confidently': 0.016910333934197906, 'cause': 0.10146200360518744, 'solemn': 0.016910333934197906, 'duty': 0.033820667868395812, 'protect': 0.016910333934197906, 'people': 0.10146200360518744, 'attacks': 0.016910333934197906, 'emerging': 0.016910333934197906, 'threats': 0.016910333934197906, 'unwisely': 0.016910333934197906, 'test': 0.016910333934197906, 'resolve': 0.016910333934197906, 'firm': 0.016910333934197906, 'persistently': 0.016910333934197906, 'clarify': 0.016910333934197906, 'choice': 0.067641335736791625, 'ruler': 0.016910333934197906, 'moral': 0.016910333934197906, 'oppression': 0.033820667868395812, 'wrong': 0.016910333934197906, 'eternally': 0.016910333934197906, 'right': 0.016910333934197906, 'pretend': 0.016910333934197906, 'jailed': 0.016910333934197906, 'dissidents': 0.016910333934197906, 'prefer': 0.016910333934197906, 'chains': 0.016910333934197906, 'women': 0.033820667868395812, 'welcome': 0.016910333934197906, 'humiliation': 0.016910333934197906, 'servitude': 0.016910333934197906, 'aspires': 0.016910333934197906, 'mercy': 0.033820667868395812, 'bullies': 0.016910333934197906, 'encourage': 0.016910333934197906, 'reform': 0.016910333934197906, 'governments': 0.050731001802593718, 'making': 0.033820667868395812, 'clear': 0.016910333934197906, 'relations': 0.016910333934197906, 'require': 0.016910333934197906, 'treatment': 0.016910333934197906, 'belief': 0.016910333934197906, 'guide': 0.016910333934197906, 'policies': 0.016910333934197906, 'grudging': 0.016910333934197906, 'concessions': 0.016910333934197906, 'dictators': 0.016910333934197906, 'secured': 0.016910333934197906, 'free': 0.11837233753938534, 'dissent': 0.016910333934197906, 'participation': 0.016910333934197906, 'governed': 0.016910333934197906, 'run': 0.016910333934197906, 'know': 0.10146200360518744, 'questioned': 0.016910333934197906, 'global': 0.016910333934197906, 'appeal': 0.016910333934197906, 'xthough': 0.016910333934197906, 'decades': 0.016910333934197906, 'swiftest': 0.016910333934197906, 'advance': 0.033820667868395812, 'odd': 0.016910333934197906, 'doubt': 0.016910333934197906, 'americans': 0.13528267147358325, 'surprised': 0.016910333934197906, 'eventually': 0.016910333934197906, 'comes': 0.016910333934197906, 'mind': 0.016910333934197906, 'accept': 0.033820667868395812, 'existence': 0.016910333934197906, 'permanent': 0.050731001802593718, 'possibility': 0.016910333934197906, 'slavery': 0.016910333934197906, 'come': 0.033820667868395812, 'love': 0.033820667868395812, 'today': 0.050731001802593718, 'anew': 0.033820667868395812, 'peoples': 0.016910333934197906, 'hopelessness': 0.016910333934197906, 'ignore': 0.016910333934197906, 'oppressors': 0.016910333934197906, 'stand': 0.033820667868395812, 'reformers': 0.016910333934197906, 'facing': 0.016910333934197906, 'repression': 0.016910333934197906, 'prison': 0.016910333934197906, 'exile': 0.016910333934197906, 'sees': 0.016910333934197906, 'future': 0.033820667868395812, 'leaders': 0.033820667868395812, 'rulers': 0.016910333934197906, 'outlaw': 0.016910333934197906, 'regimes': 0.016910333934197906, 'believe': 0.033820667868395812, 'abraham': 0.016910333934197906, 'lincoln': 0.016910333934197906, 'did': 0.050731001802593718, 'deny': 0.016910333934197906, 'deserve': 0.016910333934197906, 'just': 0.050731001802593718, 'god': 0.050731001802593718, 'retain': 0.016910333934197906, 'habits': 0.033820667868395812, 'control': 0.016910333934197906, 'need': 0.033820667868395812, 'serve': 0.050731001802593718, 'learn': 0.016910333934197906, 'trust': 0.016910333934197906, 'start': 0.016910333934197906, 'journey': 0.016910333934197906, 'progress': 0.033820667868395812, 'walk': 0.016910333934197906, 'allies': 0.016910333934197906, 'friendship': 0.016910333934197906, 'rely': 0.016910333934197906, 'counsel': 0.016910333934197906, 'depend': 0.016910333934197906, 'division': 0.016910333934197906, 'nations': 0.033820667868395812, 'primary': 0.016910333934197906, 'enemies': 0.050731001802593718, 'concerted': 0.016910333934197906, 'effort': 0.016910333934197906, 'promote': 0.016910333934197906, 'democracy': 0.016910333934197906, 'prelude': 0.016910333934197906, 'defeat': 0.016910333934197906, 'speak': 0.016910333934197906, 'asked': 0.016910333934197906, 'patience': 0.016910333934197906, 'hard': 0.016910333934197906, 'securing': 0.016910333934197906, 'granted': 0.016910333934197906, 'good': 0.067641335736791625, 'measure': 0.016910333934197906, 'accepted': 0.033820667868395812, 'obligations': 0.016910333934197906, 'difficult': 0.016910333934197906, 'dishonorable': 0.016910333934197906, 'abandon': 0.033820667868395812, 'acted': 0.016910333934197906, 'liberating': 0.016910333934197906, 'tradition': 0.016910333934197906, 'tens': 0.016910333934197906, 'millions': 0.033820667868395812, 'achieved': 0.016910333934197906, 'kindles': 0.016910333934197906, 'efforts': 0.016910333934197906, 'lit': 0.016910333934197906, 'xa': 0.016910333934197906, 'minds': 0.016910333934197906, 'men': 0.033820667868395812, 'warms': 0.016910333934197906, 'feel': 0.033820667868395812, 'burns': 0.016910333934197906, 'fight': 0.016910333934197906, 'untamed': 0.016910333934197906, 'reach': 0.016910333934197906, 'darkest': 0.016910333934197906, 'corners': 0.016910333934197906, 'hardest': 0.016910333934197906, 'xin': 0.016910333934197906, 'intelligence': 0.016910333934197906, 'diplomacy': 0.016910333934197906, 'idealistic': 0.016910333934197906, 'helping': 0.016910333934197906, 'dangerous': 0.016910333934197906, 'fighting': 0.016910333934197906, 'shown': 0.016910333934197906, 'devotion': 0.016910333934197906, 'deaths': 0.016910333934197906, 'honored': 0.016910333934197906, 'lives': 0.033820667868395812, 'names': 0.016910333934197906, 'sacrifice': 0.016910333934197906, 'idealism': 0.033820667868395812, 'ask': 0.016910333934197906, 'youngest': 0.016910333934197906, 'evidence': 0.016910333934197906, 'eyes': 0.016910333934197906, 'allegiance': 0.016910333934197906, 'faces': 0.016910333934197906, 'soldiers': 0.033820667868395812, 'life': 0.067641335736791625, 'fragile': 0.016910333934197906, 'evil': 0.016910333934197906, 'real': 0.016910333934197906, 'courage': 0.033820667868395812, 'triumphs': 0.016910333934197906, 'larger': 0.033820667868395812, 'wants': 0.016910333934197906, 'days': 0.016910333934197906, 'add': 0.016910333934197906, 'wealth': 0.016910333934197906, 'character': 0.067641335736791625, 'essential': 0.016910333934197906, 'home': 0.016910333934197906, 'xthe': 0.016910333934197906, 'unfinished': 0.016910333934197906, 'american': 0.033820667868395812, 'moving': 0.016910333934197906, 'meaning': 0.016910333934197906, 'promise': 0.033820667868395812, 'ideal': 0.050731001802593718, 'economic': 0.016910333934197906, 'independence': 0.050731001802593718, 'laboring': 0.016910333934197906, 'edge': 0.016910333934197906, 'subsistence': 0.016910333934197906, 'broader': 0.016910333934197906, 'definition': 0.016910333934197906, 'motivated': 0.016910333934197906, 'homestead': 0.016910333934197906, 'act': 0.033820667868395812, 'social': 0.016910333934197906, 'extend': 0.016910333934197906, 'vision': 0.016910333934197906, 'reforming': 0.016910333934197906, 'needs': 0.016910333934197906, 'stake': 0.016910333934197906, 'bring': 0.033820667868395812, 'highest': 0.016910333934197906, 'standards': 0.033820667868395812, 'schools': 0.016910333934197906, 'build': 0.016910333934197906, 'ownership': 0.033820667868395812, 'society': 0.050731001802593718, 'widen': 0.016910333934197906, 'homes': 0.016910333934197906, 'businesses': 0.016910333934197906, 'retirement': 0.016910333934197906, 'savings': 0.016910333934197906, 'health': 0.016910333934197906, 'insurance': 0.016910333934197906, 'xpreparing': 0.016910333934197906, 'challenges': 0.016910333934197906, 'citizen': 0.016910333934197906, 'agent': 0.016910333934197906, 'destiny': 0.016910333934197906, 'greater': 0.016910333934197906, 'want': 0.016910333934197906, 'fear': 0.016910333934197906, 'prosperous': 0.016910333934197906, 'equal': 0.016910333934197906, 'public': 0.033820667868395812, 'private': 0.016910333934197906, 'xon': 0.016910333934197906, 'integrity': 0.016910333934197906, 'tolerance': 0.016910333934197906, 'conscience': 0.016910333934197906, 'relies': 0.033820667868395812, 'end': 0.016910333934197906, 'governing': 0.016910333934197906, 'edifice': 0.016910333934197906, 'built': 0.016910333934197906, 'families': 0.016910333934197906, 'supported': 0.016910333934197906, 'communities': 0.016910333934197906, 'national': 0.016910333934197906, 'truths': 0.016910333934197906, 'sinai': 0.016910333934197906, 'sermon': 0.016910333934197906, 'mount': 0.016910333934197906, 'koran': 0.016910333934197906, 'varied': 0.016910333934197906, 'faiths': 0.016910333934197906, 'forward': 0.050731001802593718, 'generation': 0.033820667868395812, 'reaffirming': 0.016910333934197906, 'true': 0.016910333934197906, 'xideals': 0.016910333934197906, 'conduct': 0.016910333934197906, 'yesterday': 0.016910333934197906, 'forever': 0.016910333934197906, 'exercise': 0.016910333934197906, 'ennobled': 0.016910333934197906, 'service': 0.016910333934197906, 'heart': 0.033820667868395812, 'weak': 0.016910333934197906, 'does': 0.016910333934197906, 'mean': 0.016910333934197906, 'look': 0.016910333934197906, 'neighbor': 0.016910333934197906, 'surround': 0.016910333934197906, 'lost': 0.016910333934197906, 'remember': 0.016910333934197906, 'unwanted': 0.016910333934197906, 'worth': 0.016910333934197906, 'racism': 0.016910333934197906, 'carry': 0.016910333934197906, 'message': 0.016910333934197906, 'baggage': 0.016910333934197906, 'bigotry': 0.016910333934197906, 'perspective': 0.016910333934197906, 'single': 0.050731001802593718, 'including': 0.016910333934197906, 'dedication': 0.016910333934197906, 'issues': 0.016910333934197906, 'questions': 0.050731001802593718, 'viewpoint': 0.016910333934197906, 'centuries': 0.016910333934197906, 'narrowed': 0.016910333934197906, 'credit': 0.016910333934197906, 'judge': 0.016910333934197906, 'party': 0.016910333934197906, 'background': 0.016910333934197906, 'birth': 0.016910333934197906, 'bound': 0.016910333934197906, 'known': 0.016910333934197906, 'divisions': 0.033820667868395812, 'healed': 0.016910333934197906, 'purposes': 0.016910333934197906, 'strive': 0.016910333934197906, 'faith': 0.016910333934197906, 'heal': 0.016910333934197906, 'define': 0.016910333934197906, 'felt': 0.016910333934197906, 'unity': 0.033820667868395812, 'fellowship': 0.016910333934197906, 'attack': 0.016910333934197906, 'response': 0.016910333934197906, 'like': 0.016910333934197906, 'hand': 0.016910333934197906, 'pride': 0.016910333934197906, 'acts': 0.016910333934197906, 'victims': 0.016910333934197906, 'disaster': 0.016910333934197906, 'given': 0.016910333934197906, 'unjust': 0.016910333934197906, 'encounter': 0.016910333934197906, 'captives': 0.016910333934197906, 'set': 0.033820667868395812, 'complete': 0.016910333934197906, 'confidence': 0.033820667868395812, 'eventual': 0.016910333934197906, 'triumph': 0.016910333934197906, 'runs': 0.016910333934197906, 'wheels': 0.016910333934197906, 'inevitability': 0.016910333934197906, 'choices': 0.016910333934197906, 'consider': 0.016910333934197906, 'moves': 0.016910333934197906, 'chooses': 0.016910333934197906, 'wills': 0.016910333934197906, 'mankind': 0.016910333934197906, 'hunger': 0.016910333934197906, 'dark': 0.016910333934197906, 'places': 0.016910333934197906, 'longing': 0.016910333934197906, 'founders': 0.016910333934197906, 'declared': 0.016910333934197906, 'new': 0.016910333934197906, 'order': 0.016910333934197906, 'ages': 0.016910333934197906, 'died': 0.016910333934197906, 'wave': 0.033820667868395812, 'union': 0.016910333934197906, 'based': 0.016910333934197906, 'marched': 0.016910333934197906, 'peaceful': 0.016910333934197906, 'outrage': 0.016910333934197906, 'banner': 0.016910333934197906, 'xthey': 0.016910333934197906, 'acting': 0.016910333934197906, 'ancient': 0.016910333934197906, 'meant': 0.033820667868395812, 'fulfilled': 0.016910333934197906, 'ebb': 0.016910333934197906, 'flow': 0.016910333934197906, 'visible': 0.016910333934197906, 'direction': 0.016910333934197906, 'author': 0.016910333934197906, 'declaration': 0.016910333934197906, 'read': 0.016910333934197906, 'bell': 0.016910333934197906, 'sounded': 0.016910333934197906, 'celebration': 0.016910333934197906, 'witness': 0.016910333934197906, 'said': 0.016910333934197906, 'rang': 0.016910333934197906, 'means': 0.016910333934197906, 'young': 0.016910333934197906, 'proclaims': 0.016910333934197906, 'inhabitants': 0.016910333934197906, 'thereof': 0.016910333934197906, 'renewed': 0.016910333934197906, 'strength': 0.016910333934197906, 'xtested': 0.016910333934197906, 'weary': 0.016910333934197906, 'xwe': 0.016910333934197906, 'ready': 0.016910333934197906, 'greatest': 0.016910333934197906, 'achievements': 0.016910333934197906, 'bless': 0.016910333934197906}"
     ]
    },
    {
     "name": "stdout",
     "output_type": "stream",
     "text": [
      "\n"
     ]
    }
   ],
   "source": [
    "from sklearn.feature_extraction.text import TfidfVectorizer\n",
    "\n",
    "#######X_train, X_test = train_test_split(final, test_size=0.4, random_state=0)\n",
    "\n",
    "vectorizer = TfidfVectorizer(max_df=1.0, # drop words that occur in more than half the paragraphs\n",
    "                             min_df=1, # only use words that appear at least twice\n",
    "                             stop_words='english', \n",
    "                             lowercase=True, #convert everything to lower case (since Alice in Wonderland has the HABIT of CAPITALIZING WORDS for EMPHASIS)\n",
    "                             use_idf=True,#we definitely want to use inverse document frequencies in our weighting\n",
    "                             norm=u'l2', #Applies a correction factor so that longer paragraphs and shorter paragraphs get treated equally\n",
    "                             smooth_idf=True #Adds 1 to all document frequencies, as if an extra document existed that used every word once.  Prevents divide-by-zero errors\n",
    "                            )\n",
    "\n",
    "#Applying the vectorizer\n",
    "final_tfidf = {}\n",
    "final_tfidf_csr = {}\n",
    "tfidf_bypara = {}\n",
    "for key in final:\n",
    "    final_tfidf[key]=vectorizer.fit_transform(final[key])\n",
    "    print(\"Number of features: %d\" % final_tfidf[key].get_shape()[1])\n",
    "    final_tfidf_csr[key] = final_tfidf[key].tocsr()\n",
    "\n",
    "#number of paragraphs\n",
    "    n = final_tfidf_csr[key].shape[0]\n",
    "#A list of dictionaries, one per paragraph\n",
    "    tfidf_bypara[key] = [{} for _ in range(0,n)]\n",
    "#List of features\n",
    "    terms = vectorizer.get_feature_names()\n",
    "#for each paragraph, lists the feature words and their tf-idf scores\n",
    "    for i, j in zip(*final_tfidf_csr[key].nonzero()):\n",
    "        tfidf_bypara[key][i][terms[j]] = final_tfidf_csr[key][i, j]\n",
    "        \n",
    "#Keep in mind that the log base 2 of 1 is 0, so a tf-idf score of 0 indicates that the word was present once in that sentence.\n",
    "    print('Original sentence:', final[key][0])\n",
    "    print('Tf_idf vector:', tfidf_bypara[key][0])"
   ]
  },
  {
   "cell_type": "code",
   "execution_count": 34,
   "metadata": {},
   "outputs": [],
   "source": [
    "# Create a list to hold the names of the variables:\n",
    "allwords = []\n",
    "list_of_para_names = []\n",
    "list_of_indices = []\n",
    "for key in tfidf_bypara:\n",
    "    for i, key2 in enumerate(tfidf_bypara[key]):\n",
    "        list_of_para_names.append(str(key))\n",
    "        list_of_indices.append(str(i))\n",
    "        for key3 in tfidf_bypara[key][i]:\n",
    "            allwords.append(key3)\n",
    "#final_table\n",
    "final_table = pd.DataFrame(columns=allwords)\n",
    "final_table['para_name'] = list_of_para_names\n",
    "final_table['para_index'] = list_of_indices\n",
    "final_table.loc[:, allwords] = 0"
   ]
  },
  {
   "cell_type": "code",
   "execution_count": 35,
   "metadata": {},
   "outputs": [
    {
     "data": {
      "text/html": [
       "<div>\n",
       "<style>\n",
       "    .dataframe thead tr:only-child th {\n",
       "        text-align: right;\n",
       "    }\n",
       "\n",
       "    .dataframe thead th {\n",
       "        text-align: left;\n",
       "    }\n",
       "\n",
       "    .dataframe tbody tr th {\n",
       "        vertical-align: top;\n",
       "    }\n",
       "</style>\n",
       "<table border=\"1\" class=\"dataframe\">\n",
       "  <thead>\n",
       "    <tr style=\"text-align: right;\">\n",
       "      <th></th>\n",
       "      <th>change</th>\n",
       "      <th>government</th>\n",
       "      <th>began</th>\n",
       "      <th>years</th>\n",
       "      <th>ago</th>\n",
       "      <th>house</th>\n",
       "      <th>representatives</th>\n",
       "      <th>democratic</th>\n",
       "      <th>decisive</th>\n",
       "      <th>majority</th>\n",
       "      <th>...</th>\n",
       "      <th>strength</th>\n",
       "      <th>xtested</th>\n",
       "      <th>weary</th>\n",
       "      <th>xwe</th>\n",
       "      <th>ready</th>\n",
       "      <th>greatest</th>\n",
       "      <th>achievements</th>\n",
       "      <th>bless</th>\n",
       "      <th>para_name</th>\n",
       "      <th>para_index</th>\n",
       "    </tr>\n",
       "  </thead>\n",
       "  <tbody>\n",
       "    <tr>\n",
       "      <th>0</th>\n",
       "      <td>0</td>\n",
       "      <td>0</td>\n",
       "      <td>0</td>\n",
       "      <td>0</td>\n",
       "      <td>0</td>\n",
       "      <td>0</td>\n",
       "      <td>0</td>\n",
       "      <td>0</td>\n",
       "      <td>0</td>\n",
       "      <td>0</td>\n",
       "      <td>...</td>\n",
       "      <td>0</td>\n",
       "      <td>0</td>\n",
       "      <td>0</td>\n",
       "      <td>0</td>\n",
       "      <td>0</td>\n",
       "      <td>0</td>\n",
       "      <td>0</td>\n",
       "      <td>0</td>\n",
       "      <td>dem0</td>\n",
       "      <td>0</td>\n",
       "    </tr>\n",
       "    <tr>\n",
       "      <th>1</th>\n",
       "      <td>0</td>\n",
       "      <td>0</td>\n",
       "      <td>0</td>\n",
       "      <td>0</td>\n",
       "      <td>0</td>\n",
       "      <td>0</td>\n",
       "      <td>0</td>\n",
       "      <td>0</td>\n",
       "      <td>0</td>\n",
       "      <td>0</td>\n",
       "      <td>...</td>\n",
       "      <td>0</td>\n",
       "      <td>0</td>\n",
       "      <td>0</td>\n",
       "      <td>0</td>\n",
       "      <td>0</td>\n",
       "      <td>0</td>\n",
       "      <td>0</td>\n",
       "      <td>0</td>\n",
       "      <td>dem0</td>\n",
       "      <td>1</td>\n",
       "    </tr>\n",
       "    <tr>\n",
       "      <th>2</th>\n",
       "      <td>0</td>\n",
       "      <td>0</td>\n",
       "      <td>0</td>\n",
       "      <td>0</td>\n",
       "      <td>0</td>\n",
       "      <td>0</td>\n",
       "      <td>0</td>\n",
       "      <td>0</td>\n",
       "      <td>0</td>\n",
       "      <td>0</td>\n",
       "      <td>...</td>\n",
       "      <td>0</td>\n",
       "      <td>0</td>\n",
       "      <td>0</td>\n",
       "      <td>0</td>\n",
       "      <td>0</td>\n",
       "      <td>0</td>\n",
       "      <td>0</td>\n",
       "      <td>0</td>\n",
       "      <td>dem0</td>\n",
       "      <td>2</td>\n",
       "    </tr>\n",
       "    <tr>\n",
       "      <th>3</th>\n",
       "      <td>0</td>\n",
       "      <td>0</td>\n",
       "      <td>0</td>\n",
       "      <td>0</td>\n",
       "      <td>0</td>\n",
       "      <td>0</td>\n",
       "      <td>0</td>\n",
       "      <td>0</td>\n",
       "      <td>0</td>\n",
       "      <td>0</td>\n",
       "      <td>...</td>\n",
       "      <td>0</td>\n",
       "      <td>0</td>\n",
       "      <td>0</td>\n",
       "      <td>0</td>\n",
       "      <td>0</td>\n",
       "      <td>0</td>\n",
       "      <td>0</td>\n",
       "      <td>0</td>\n",
       "      <td>dem0</td>\n",
       "      <td>3</td>\n",
       "    </tr>\n",
       "    <tr>\n",
       "      <th>4</th>\n",
       "      <td>0</td>\n",
       "      <td>0</td>\n",
       "      <td>0</td>\n",
       "      <td>0</td>\n",
       "      <td>0</td>\n",
       "      <td>0</td>\n",
       "      <td>0</td>\n",
       "      <td>0</td>\n",
       "      <td>0</td>\n",
       "      <td>0</td>\n",
       "      <td>...</td>\n",
       "      <td>0</td>\n",
       "      <td>0</td>\n",
       "      <td>0</td>\n",
       "      <td>0</td>\n",
       "      <td>0</td>\n",
       "      <td>0</td>\n",
       "      <td>0</td>\n",
       "      <td>0</td>\n",
       "      <td>dem0</td>\n",
       "      <td>4</td>\n",
       "    </tr>\n",
       "  </tbody>\n",
       "</table>\n",
       "<p>5 rows × 25443 columns</p>\n",
       "</div>"
      ],
      "text/plain": [
       "  change government began years ago house representatives democratic decisive  \\\n",
       "0      0          0     0     0   0     0               0          0        0   \n",
       "1      0          0     0     0   0     0               0          0        0   \n",
       "2      0          0     0     0   0     0               0          0        0   \n",
       "3      0          0     0     0   0     0               0          0        0   \n",
       "4      0          0     0     0   0     0               0          0        0   \n",
       "\n",
       "  majority    ...     strength xtested weary xwe ready greatest achievements  \\\n",
       "0        0    ...            0       0     0   0     0        0            0   \n",
       "1        0    ...            0       0     0   0     0        0            0   \n",
       "2        0    ...            0       0     0   0     0        0            0   \n",
       "3        0    ...            0       0     0   0     0        0            0   \n",
       "4        0    ...            0       0     0   0     0        0            0   \n",
       "\n",
       "  bless para_name para_index  \n",
       "0     0      dem0          0  \n",
       "1     0      dem0          1  \n",
       "2     0      dem0          2  \n",
       "3     0      dem0          3  \n",
       "4     0      dem0          4  \n",
       "\n",
       "[5 rows x 25443 columns]"
      ]
     },
     "execution_count": 35,
     "metadata": {},
     "output_type": "execute_result"
    }
   ],
   "source": [
    "final_table.head()"
   ]
  },
  {
   "cell_type": "code",
   "execution_count": 36,
   "metadata": {
    "collapsed": true
   },
   "outputs": [],
   "source": [
    "final_table['para_index'] = final_table['para_index'].astype(int)"
   ]
  },
  {
   "cell_type": "code",
   "execution_count": 37,
   "metadata": {},
   "outputs": [
    {
     "data": {
      "text/plain": [
       "int"
      ]
     },
     "execution_count": 37,
     "metadata": {},
     "output_type": "execute_result"
    }
   ],
   "source": [
    "type(final_table.loc[2, 'para_index'])"
   ]
  },
  {
   "cell_type": "code",
   "execution_count": 40,
   "metadata": {},
   "outputs": [
    {
     "name": "stdout",
     "output_type": "stream",
     "text": [
      "Time taken: 79.5 minutes\n"
     ]
    }
   ],
   "source": [
    "start_time = time.time()\n",
    "for i in range(len(final_table)):\n",
    "    row_dict = tfidf_bypara[final_table.loc[i, 'para_name']][final_table.loc[i, 'para_index']]\n",
    "    for key in row_dict:\n",
    "        final_table.loc[i, key] = row_dict[key]\n",
    "interval = time.time() - start_time\n",
    "print('Time taken: {} minutes'.format('%.1f' % (interval / 60)))"
   ]
  },
  {
   "cell_type": "code",
   "execution_count": 41,
   "metadata": {},
   "outputs": [
    {
     "data": {
      "text/html": [
       "<div>\n",
       "<style>\n",
       "    .dataframe thead tr:only-child th {\n",
       "        text-align: right;\n",
       "    }\n",
       "\n",
       "    .dataframe thead th {\n",
       "        text-align: left;\n",
       "    }\n",
       "\n",
       "    .dataframe tbody tr th {\n",
       "        vertical-align: top;\n",
       "    }\n",
       "</style>\n",
       "<table border=\"1\" class=\"dataframe\">\n",
       "  <thead>\n",
       "    <tr style=\"text-align: right;\">\n",
       "      <th></th>\n",
       "      <th>change</th>\n",
       "      <th>government</th>\n",
       "      <th>began</th>\n",
       "      <th>years</th>\n",
       "      <th>ago</th>\n",
       "      <th>house</th>\n",
       "      <th>representatives</th>\n",
       "      <th>democratic</th>\n",
       "      <th>decisive</th>\n",
       "      <th>majority</th>\n",
       "      <th>...</th>\n",
       "      <th>strength</th>\n",
       "      <th>xtested</th>\n",
       "      <th>weary</th>\n",
       "      <th>xwe</th>\n",
       "      <th>ready</th>\n",
       "      <th>greatest</th>\n",
       "      <th>achievements</th>\n",
       "      <th>bless</th>\n",
       "      <th>para_name</th>\n",
       "      <th>para_index</th>\n",
       "    </tr>\n",
       "  </thead>\n",
       "  <tbody>\n",
       "    <tr>\n",
       "      <th>0</th>\n",
       "      <td>0.251879</td>\n",
       "      <td>0.0923566</td>\n",
       "      <td>0.167536</td>\n",
       "      <td>0.12594</td>\n",
       "      <td>0.143204</td>\n",
       "      <td>0.167536</td>\n",
       "      <td>0.167536</td>\n",
       "      <td>0.286407</td>\n",
       "      <td>0.167536</td>\n",
       "      <td>0.167536</td>\n",
       "      <td>...</td>\n",
       "      <td>0</td>\n",
       "      <td>0</td>\n",
       "      <td>0</td>\n",
       "      <td>0</td>\n",
       "      <td>0</td>\n",
       "      <td>0</td>\n",
       "      <td>0</td>\n",
       "      <td>0</td>\n",
       "      <td>dem0</td>\n",
       "      <td>0</td>\n",
       "    </tr>\n",
       "    <tr>\n",
       "      <th>1</th>\n",
       "      <td>0.0830581</td>\n",
       "      <td>0</td>\n",
       "      <td>0</td>\n",
       "      <td>0</td>\n",
       "      <td>0</td>\n",
       "      <td>0</td>\n",
       "      <td>0</td>\n",
       "      <td>0.0944439</td>\n",
       "      <td>0</td>\n",
       "      <td>0</td>\n",
       "      <td>...</td>\n",
       "      <td>0</td>\n",
       "      <td>0</td>\n",
       "      <td>0</td>\n",
       "      <td>0</td>\n",
       "      <td>0</td>\n",
       "      <td>0</td>\n",
       "      <td>0</td>\n",
       "      <td>0</td>\n",
       "      <td>dem0</td>\n",
       "      <td>1</td>\n",
       "    </tr>\n",
       "    <tr>\n",
       "      <th>2</th>\n",
       "      <td>0.0854528</td>\n",
       "      <td>0.062666</td>\n",
       "      <td>0</td>\n",
       "      <td>0</td>\n",
       "      <td>0</td>\n",
       "      <td>0</td>\n",
       "      <td>0</td>\n",
       "      <td>0</td>\n",
       "      <td>0</td>\n",
       "      <td>0</td>\n",
       "      <td>...</td>\n",
       "      <td>0.113677</td>\n",
       "      <td>0</td>\n",
       "      <td>0</td>\n",
       "      <td>0</td>\n",
       "      <td>0</td>\n",
       "      <td>0</td>\n",
       "      <td>0</td>\n",
       "      <td>0</td>\n",
       "      <td>dem0</td>\n",
       "      <td>2</td>\n",
       "    </tr>\n",
       "    <tr>\n",
       "      <th>3</th>\n",
       "      <td>0</td>\n",
       "      <td>0.11471</td>\n",
       "      <td>0</td>\n",
       "      <td>0.0782107</td>\n",
       "      <td>0</td>\n",
       "      <td>0</td>\n",
       "      <td>0</td>\n",
       "      <td>0</td>\n",
       "      <td>0</td>\n",
       "      <td>0</td>\n",
       "      <td>...</td>\n",
       "      <td>0</td>\n",
       "      <td>0</td>\n",
       "      <td>0</td>\n",
       "      <td>0</td>\n",
       "      <td>0</td>\n",
       "      <td>0</td>\n",
       "      <td>0.104043</td>\n",
       "      <td>0</td>\n",
       "      <td>dem0</td>\n",
       "      <td>3</td>\n",
       "    </tr>\n",
       "    <tr>\n",
       "      <th>4</th>\n",
       "      <td>0</td>\n",
       "      <td>0</td>\n",
       "      <td>0</td>\n",
       "      <td>0</td>\n",
       "      <td>0</td>\n",
       "      <td>0</td>\n",
       "      <td>0</td>\n",
       "      <td>0</td>\n",
       "      <td>0</td>\n",
       "      <td>0</td>\n",
       "      <td>...</td>\n",
       "      <td>0</td>\n",
       "      <td>0</td>\n",
       "      <td>0</td>\n",
       "      <td>0</td>\n",
       "      <td>0</td>\n",
       "      <td>0</td>\n",
       "      <td>0</td>\n",
       "      <td>0</td>\n",
       "      <td>dem0</td>\n",
       "      <td>4</td>\n",
       "    </tr>\n",
       "  </tbody>\n",
       "</table>\n",
       "<p>5 rows × 25443 columns</p>\n",
       "</div>"
      ],
      "text/plain": [
       "      change government     began      years       ago     house  \\\n",
       "0   0.251879  0.0923566  0.167536    0.12594  0.143204  0.167536   \n",
       "1  0.0830581          0         0          0         0         0   \n",
       "2  0.0854528   0.062666         0          0         0         0   \n",
       "3          0    0.11471         0  0.0782107         0         0   \n",
       "4          0          0         0          0         0         0   \n",
       "\n",
       "  representatives democratic  decisive  majority    ...      strength xtested  \\\n",
       "0        0.167536   0.286407  0.167536  0.167536    ...             0       0   \n",
       "1               0  0.0944439         0         0    ...             0       0   \n",
       "2               0          0         0         0    ...      0.113677       0   \n",
       "3               0          0         0         0    ...             0       0   \n",
       "4               0          0         0         0    ...             0       0   \n",
       "\n",
       "  weary xwe ready greatest achievements bless para_name para_index  \n",
       "0     0   0     0        0            0     0      dem0          0  \n",
       "1     0   0     0        0            0     0      dem0          1  \n",
       "2     0   0     0        0            0     0      dem0          2  \n",
       "3     0   0     0        0     0.104043     0      dem0          3  \n",
       "4     0   0     0        0            0     0      dem0          4  \n",
       "\n",
       "[5 rows x 25443 columns]"
      ]
     },
     "execution_count": 41,
     "metadata": {},
     "output_type": "execute_result"
    }
   ],
   "source": [
    "final_table.head()"
   ]
  },
  {
   "cell_type": "code",
   "execution_count": 42,
   "metadata": {
    "collapsed": true
   },
   "outputs": [],
   "source": [
    "final_table['which_party'] = [final_table['para_name'][i][:3] for i in range(len(final_table['para_name']))]"
   ]
  },
  {
   "cell_type": "code",
   "execution_count": 43,
   "metadata": {},
   "outputs": [
    {
     "data": {
      "text/html": [
       "<div>\n",
       "<style>\n",
       "    .dataframe thead tr:only-child th {\n",
       "        text-align: right;\n",
       "    }\n",
       "\n",
       "    .dataframe thead th {\n",
       "        text-align: left;\n",
       "    }\n",
       "\n",
       "    .dataframe tbody tr th {\n",
       "        vertical-align: top;\n",
       "    }\n",
       "</style>\n",
       "<table border=\"1\" class=\"dataframe\">\n",
       "  <thead>\n",
       "    <tr style=\"text-align: right;\">\n",
       "      <th></th>\n",
       "      <th>change</th>\n",
       "      <th>government</th>\n",
       "      <th>began</th>\n",
       "      <th>years</th>\n",
       "      <th>ago</th>\n",
       "      <th>house</th>\n",
       "      <th>representatives</th>\n",
       "      <th>democratic</th>\n",
       "      <th>decisive</th>\n",
       "      <th>majority</th>\n",
       "      <th>...</th>\n",
       "      <th>xtested</th>\n",
       "      <th>weary</th>\n",
       "      <th>xwe</th>\n",
       "      <th>ready</th>\n",
       "      <th>greatest</th>\n",
       "      <th>achievements</th>\n",
       "      <th>bless</th>\n",
       "      <th>para_name</th>\n",
       "      <th>para_index</th>\n",
       "      <th>which_party</th>\n",
       "    </tr>\n",
       "  </thead>\n",
       "  <tbody>\n",
       "    <tr>\n",
       "      <th>0</th>\n",
       "      <td>0.251879</td>\n",
       "      <td>0.0923566</td>\n",
       "      <td>0.167536</td>\n",
       "      <td>0.12594</td>\n",
       "      <td>0.143204</td>\n",
       "      <td>0.167536</td>\n",
       "      <td>0.167536</td>\n",
       "      <td>0.286407</td>\n",
       "      <td>0.167536</td>\n",
       "      <td>0.167536</td>\n",
       "      <td>...</td>\n",
       "      <td>0</td>\n",
       "      <td>0</td>\n",
       "      <td>0</td>\n",
       "      <td>0</td>\n",
       "      <td>0</td>\n",
       "      <td>0</td>\n",
       "      <td>0</td>\n",
       "      <td>dem0</td>\n",
       "      <td>0</td>\n",
       "      <td>dem</td>\n",
       "    </tr>\n",
       "    <tr>\n",
       "      <th>1</th>\n",
       "      <td>0.0830581</td>\n",
       "      <td>0</td>\n",
       "      <td>0</td>\n",
       "      <td>0</td>\n",
       "      <td>0</td>\n",
       "      <td>0</td>\n",
       "      <td>0</td>\n",
       "      <td>0.0944439</td>\n",
       "      <td>0</td>\n",
       "      <td>0</td>\n",
       "      <td>...</td>\n",
       "      <td>0</td>\n",
       "      <td>0</td>\n",
       "      <td>0</td>\n",
       "      <td>0</td>\n",
       "      <td>0</td>\n",
       "      <td>0</td>\n",
       "      <td>0</td>\n",
       "      <td>dem0</td>\n",
       "      <td>1</td>\n",
       "      <td>dem</td>\n",
       "    </tr>\n",
       "    <tr>\n",
       "      <th>2</th>\n",
       "      <td>0.0854528</td>\n",
       "      <td>0.062666</td>\n",
       "      <td>0</td>\n",
       "      <td>0</td>\n",
       "      <td>0</td>\n",
       "      <td>0</td>\n",
       "      <td>0</td>\n",
       "      <td>0</td>\n",
       "      <td>0</td>\n",
       "      <td>0</td>\n",
       "      <td>...</td>\n",
       "      <td>0</td>\n",
       "      <td>0</td>\n",
       "      <td>0</td>\n",
       "      <td>0</td>\n",
       "      <td>0</td>\n",
       "      <td>0</td>\n",
       "      <td>0</td>\n",
       "      <td>dem0</td>\n",
       "      <td>2</td>\n",
       "      <td>dem</td>\n",
       "    </tr>\n",
       "    <tr>\n",
       "      <th>3</th>\n",
       "      <td>0</td>\n",
       "      <td>0.11471</td>\n",
       "      <td>0</td>\n",
       "      <td>0.0782107</td>\n",
       "      <td>0</td>\n",
       "      <td>0</td>\n",
       "      <td>0</td>\n",
       "      <td>0</td>\n",
       "      <td>0</td>\n",
       "      <td>0</td>\n",
       "      <td>...</td>\n",
       "      <td>0</td>\n",
       "      <td>0</td>\n",
       "      <td>0</td>\n",
       "      <td>0</td>\n",
       "      <td>0</td>\n",
       "      <td>0.104043</td>\n",
       "      <td>0</td>\n",
       "      <td>dem0</td>\n",
       "      <td>3</td>\n",
       "      <td>dem</td>\n",
       "    </tr>\n",
       "    <tr>\n",
       "      <th>4</th>\n",
       "      <td>0</td>\n",
       "      <td>0</td>\n",
       "      <td>0</td>\n",
       "      <td>0</td>\n",
       "      <td>0</td>\n",
       "      <td>0</td>\n",
       "      <td>0</td>\n",
       "      <td>0</td>\n",
       "      <td>0</td>\n",
       "      <td>0</td>\n",
       "      <td>...</td>\n",
       "      <td>0</td>\n",
       "      <td>0</td>\n",
       "      <td>0</td>\n",
       "      <td>0</td>\n",
       "      <td>0</td>\n",
       "      <td>0</td>\n",
       "      <td>0</td>\n",
       "      <td>dem0</td>\n",
       "      <td>4</td>\n",
       "      <td>dem</td>\n",
       "    </tr>\n",
       "  </tbody>\n",
       "</table>\n",
       "<p>5 rows × 25444 columns</p>\n",
       "</div>"
      ],
      "text/plain": [
       "      change government     began      years       ago     house  \\\n",
       "0   0.251879  0.0923566  0.167536    0.12594  0.143204  0.167536   \n",
       "1  0.0830581          0         0          0         0         0   \n",
       "2  0.0854528   0.062666         0          0         0         0   \n",
       "3          0    0.11471         0  0.0782107         0         0   \n",
       "4          0          0         0          0         0         0   \n",
       "\n",
       "  representatives democratic  decisive  majority     ...     xtested weary  \\\n",
       "0        0.167536   0.286407  0.167536  0.167536     ...           0     0   \n",
       "1               0  0.0944439         0         0     ...           0     0   \n",
       "2               0          0         0         0     ...           0     0   \n",
       "3               0          0         0         0     ...           0     0   \n",
       "4               0          0         0         0     ...           0     0   \n",
       "\n",
       "  xwe ready greatest achievements bless para_name para_index which_party  \n",
       "0   0     0        0            0     0      dem0          0         dem  \n",
       "1   0     0        0            0     0      dem0          1         dem  \n",
       "2   0     0        0            0     0      dem0          2         dem  \n",
       "3   0     0        0     0.104043     0      dem0          3         dem  \n",
       "4   0     0        0            0     0      dem0          4         dem  \n",
       "\n",
       "[5 rows x 25444 columns]"
      ]
     },
     "execution_count": 43,
     "metadata": {},
     "output_type": "execute_result"
    }
   ],
   "source": [
    "final_table.head()"
   ]
  },
  {
   "cell_type": "code",
   "execution_count": 112,
   "metadata": {},
   "outputs": [
    {
     "name": "stdout",
     "output_type": "stream",
     "text": [
      "which_party  dem  rep\n",
      "0                    \n",
      "dem           20   46\n",
      "rep           66   59\n",
      "Success rate in predicting party of President from Inaugural Speech: 42.9%\n",
      "Time taken: 0.0 minutes\n"
     ]
    }
   ],
   "source": [
    "start_time = time.time()\n",
    "\n",
    "X = final_table.drop(['para_name', 'para_index', 'which_party'], axis = 1)\n",
    "Y = final_table['which_party']\n",
    "\n",
    "train_pres = ['dem0', 'dem1', 'dem2', 'dem3', 'dem4', 'dem5', 'dem6', \n",
    "              'dem7', 'dem9', 'rep1', 'dem8', \n",
    "               'rep6', 'rep7', 'rep8', 'rep9', 'rep10', 'rep11', 'rep12', 'rep15', 'rep14', 'rep13']\n",
    "\n",
    "test_pres = ['dem11', 'dem12', 'dem13','rep2', 'rep3', 'rep4', 'rep5']\n",
    "\n",
    "\n",
    "Xtrain = X[final_table['para_name'].isin(train_pres)]\n",
    "Ytrain = Y[final_table['para_name'].isin(train_pres)]\n",
    "\n",
    "Xtest = X[final_table['para_name'].isin(test_pres)]\n",
    "Ytest = Y[final_table['para_name'].isin(test_pres)]"
   ]
  },
  {
   "cell_type": "markdown",
   "metadata": {},
   "source": [
    "## Results\n",
    "The calculated predictions are shown below. Clearly the tf-idf model was not able to predict at the speech level (as dictinct from the paragraph level) the party affiliation of the speaker. The results for all models shown range from 42.9% to 57%. For this (tf-idf) approach, we used all words and did not restrict the model to the most common words, say 2000 or so. Restricting the word set (and other parameters of the tf-idf instantiaton) may have changed the outcome. This and other avenues could not be explored due to the considerable amount of time and energy already spent on this task, with other projects waiting."
   ]
  },
  {
   "cell_type": "markdown",
   "metadata": {},
   "source": [
    "### Random Forest Classifier"
   ]
  },
  {
   "cell_type": "code",
   "execution_count": 131,
   "metadata": {},
   "outputs": [
    {
     "name": "stdout",
     "output_type": "stream",
     "text": [
      "which_party  dem  rep\n",
      "0                    \n",
      "dem           31   37\n",
      "rep           55   68\n",
      "Success rate in predicting party of President from Inaugural Speech: 57.1%\n",
      "Time taken: 11.4 minutes\n"
     ]
    }
   ],
   "source": [
    "from sklearn import ensemble\n",
    "rfc = ensemble.RandomForestClassifier()\n",
    "fit_model = rfc.fit(Xtrain, Ytrain)\n",
    "\n",
    "final_table_pres = final_table[final_table['para_name'].isin(test_pres)]\n",
    "y_pred = pd.DataFrame(rfc.predict(Xtest), index=final_table_pres.index)\n",
    "\n",
    "tab = pd.crosstab(y_pred[0], Ytest)\n",
    "print(tab)\n",
    "success_count = 0\n",
    "for pres in test_pres:\n",
    "#    affiliation.append(pres[:3])    \n",
    "    pred_mat = y_pred[final_table_pres['para_name'] == pres]\n",
    "    total_dem = sum(1 for value in pred_mat[0] if value == 'dem')\n",
    "    frac_dem = total_dem / len(pred_mat)\n",
    "    if frac_dem > 0.5 and pres[:3] == 'dem':\n",
    "        success_count += 1\n",
    "    elif frac_dem < 0.5 and pres[:3] == 'rep':\n",
    "        success_count += 1\n",
    "\n",
    "success_rate = success_count / len(test_pres)     \n",
    "interval = time.time() - start_time\n",
    "\n",
    "print('Success rate in predicting party of President from Inaugural Speech: {}%'.format('%.1f' % (success_rate * 100)))  \n",
    "print('Time taken: {} minutes'.format('%.1f' % (interval / 60)))"
   ]
  },
  {
   "cell_type": "markdown",
   "metadata": {},
   "source": [
    "#### Paragraph by paragraph:"
   ]
  },
  {
   "cell_type": "code",
   "execution_count": 137,
   "metadata": {},
   "outputs": [
    {
     "name": "stdout",
     "output_type": "stream",
     "text": [
      "[ 0.65644172  0.67484663  0.2962963   0.40372671  0.54037267  0.52173913]\n",
      "\n",
      "Average accuracy of cross-val data (incl. train data): 0.5156\n",
      "SD of accuracy: 0.13320\n",
      "--------------------------------------------------\n",
      "\n",
      " Time taken: 14.0 minutes.\n"
     ]
    }
   ],
   "source": [
    "from sklearn.model_selection import cross_val_score\n",
    "import numpy as np\n",
    "\n",
    "score = cross_val_score(rfc, X, np.array(Y).ravel(), cv=6)\n",
    "print(score)\n",
    "print('\\nAverage accuracy of cross-val data (incl. train data): {}'.format('%.4f' %(sum(score)/len(score))))\n",
    "print('SD of accuracy: {}'.format('%.5f' % np.std(score)))\n",
    "print('-' * 50)\n",
    "print('\\n Time taken: {} minutes.'.format('%.1f' % ((time.time() - start_time) / 60)))"
   ]
  },
  {
   "cell_type": "markdown",
   "metadata": {},
   "source": [
    "### Logistic Regression"
   ]
  },
  {
   "cell_type": "code",
   "execution_count": 113,
   "metadata": {},
   "outputs": [
    {
     "name": "stdout",
     "output_type": "stream",
     "text": [
      "which_party  dem  rep\n",
      "0                    \n",
      "dem           23   41\n",
      "rep           63   64\n",
      "Success rate in predicting party of President from Inaugural Speech: 42.9%\n",
      "Time taken: 4.1 minutes\n"
     ]
    }
   ],
   "source": [
    "from sklearn.linear_model import LogisticRegression\n",
    "\n",
    "lr = LogisticRegression()\n",
    "fit_model = lr.fit(Xtrain, Ytrain)\n",
    "\n",
    "final_table_pres = final_table[final_table['para_name'].isin(test_pres)]\n",
    "y_pred = pd.DataFrame(lr.predict(Xtest), index=final_table_pres.index)\n",
    "\n",
    "tab = pd.crosstab(y_pred[0], Ytest)\n",
    "print(tab)\n",
    "success_count = 0\n",
    "for pres in test_pres:\n",
    "#    affiliation.append(pres[:3])    \n",
    "    pred_mat = y_pred[final_table_pres['para_name'] == pres]\n",
    "    total_dem = sum(1 for value in pred_mat[0] if value == 'dem')\n",
    "    frac_dem = total_dem / len(pred_mat)\n",
    "    if frac_dem > 0.5 and pres[:3] == 'dem':\n",
    "        success_count += 1\n",
    "    elif frac_dem < 0.5 and pres[:3] == 'rep':\n",
    "        success_count += 1\n",
    "\n",
    "success_rate = success_count / len(test_pres)     \n",
    "interval = time.time() - start_time\n",
    "\n",
    "print('Success rate in predicting party of President from Inaugural Speech: {}%'.format('%.1f' % (success_rate * 100)))  \n",
    "print('Time taken: {} minutes'.format('%.1f' % (interval / 60)))"
   ]
  },
  {
   "cell_type": "markdown",
   "metadata": {},
   "source": [
    "#### Paragraph by paragraph:"
   ]
  },
  {
   "cell_type": "code",
   "execution_count": 139,
   "metadata": {},
   "outputs": [
    {
     "name": "stdout",
     "output_type": "stream",
     "text": [
      "[ 0.67484663  0.61349693  0.36419753  0.38509317  0.57142857  0.52173913]\n",
      "\n",
      "Average accuracy of cross-val data (incl. train data): 0.5218\n",
      "SD of accuracy: 0.11389\n",
      "--------------------------------------------------\n",
      "\n",
      " Time taken: 0.3 minutes.\n"
     ]
    }
   ],
   "source": [
    "start_time = time.time()\n",
    "score = cross_val_score(lr, X, np.array(Y).ravel(), cv=6)\n",
    "print(score)\n",
    "print('\\nAverage accuracy of cross-val data (incl. train data): {}'.format('%.4f' %(sum(score)/len(score))))\n",
    "print('SD of accuracy: {}'.format('%.5f' % np.std(score)))\n",
    "print('-' * 50)\n",
    "print('\\n Time taken: {} minutes.'.format('%.1f' % ((time.time() - start_time) / 60)))"
   ]
  },
  {
   "cell_type": "markdown",
   "metadata": {},
   "source": [
    "### Gradient Boosting"
   ]
  },
  {
   "cell_type": "code",
   "execution_count": 129,
   "metadata": {
    "collapsed": true
   },
   "outputs": [],
   "source": [
    "params  =  {'n_estimators' : 500,\n",
    "          'max_depth': 10,\n",
    "          'loss': 'deviance'}"
   ]
  },
  {
   "cell_type": "code",
   "execution_count": 130,
   "metadata": {},
   "outputs": [
    {
     "name": "stdout",
     "output_type": "stream",
     "text": [
      "which_party  dem  rep\n",
      "0                    \n",
      "dem           20   37\n",
      "rep           66   68\n",
      "Success rate in predicting party of President from Inaugural Speech: 42.9%\n",
      "Time taken: 11.3 minutes\n"
     ]
    }
   ],
   "source": [
    "start_time = time.time()\n",
    "clf = ensemble.GradientBoostingClassifier(**params)\n",
    "fit_model = clf.fit(Xtrain, Ytrain)\n",
    "\n",
    "final_table_pres = final_table[final_table['para_name'].isin(test_pres)]\n",
    "y_pred = pd.DataFrame(clf.predict(Xtest), index=final_table_pres.index)\n",
    "\n",
    "tab = pd.crosstab(y_pred[0], Ytest)\n",
    "print(tab)\n",
    "success_count = 0\n",
    "for pres in test_pres:\n",
    "#    affiliation.append(pres[:3])    \n",
    "    pred_mat = y_pred[final_table_pres['para_name'] == pres]\n",
    "    total_dem = sum(1 for value in pred_mat[0] if value == 'dem')\n",
    "    frac_dem = total_dem / len(pred_mat)\n",
    "    if frac_dem > 0.5 and pres[:3] == 'dem':\n",
    "        success_count += 1\n",
    "    elif frac_dem < 0.5 and pres[:3] == 'rep':\n",
    "        success_count += 1\n",
    "\n",
    "success_rate = success_count / len(test_pres)     \n",
    "interval = time.time() - start_time\n",
    "\n",
    "print('Success rate in predicting party of President from Inaugural Speech: {}%'.format('%.1f' % (success_rate * 100)))  \n",
    "print('Time taken: {} minutes'.format('%.1f' % (interval / 60)))"
   ]
  },
  {
   "cell_type": "markdown",
   "metadata": {},
   "source": [
    "#### Paragraph by paragraph:"
   ]
  },
  {
   "cell_type": "code",
   "execution_count": 140,
   "metadata": {},
   "outputs": [
    {
     "name": "stdout",
     "output_type": "stream",
     "text": [
      "[ 0.67484663  0.56441718  0.37037037  0.50931677  0.57142857  0.55900621]\n",
      "\n",
      "Average accuracy of cross-val data (incl. train data): 0.5416\n",
      "SD of accuracy: 0.09113\n",
      "--------------------------------------------------\n",
      "\n",
      " Time taken: 85.6 minutes.\n"
     ]
    }
   ],
   "source": [
    "start_time = time.time()\n",
    "score = cross_val_score(clf, X, np.array(Y).ravel(), cv=6)\n",
    "print(score)\n",
    "print('\\nAverage accuracy of cross-val data (incl. train data): {}'.format('%.4f' %(sum(score)/len(score))))\n",
    "print('SD of accuracy: {}'.format('%.5f' % np.std(score)))\n",
    "print('-' * 50)\n",
    "print('\\n Time taken: {} minutes.'.format('%.1f' % ((time.time() - start_time) / 60)))"
   ]
  },
  {
   "cell_type": "markdown",
   "metadata": {},
   "source": [
    "### Support Vector Classifier"
   ]
  },
  {
   "cell_type": "code",
   "execution_count": 118,
   "metadata": {},
   "outputs": [
    {
     "name": "stdout",
     "output_type": "stream",
     "text": [
      "which_party  dem  rep\n",
      "0                    \n",
      "rep           86  105\n",
      "Success rate in predicting party of President from Inaugural Speech: 57.1%\n",
      "Time taken: 0.5 minutes\n"
     ]
    }
   ],
   "source": [
    "from sklearn.svm import SVC\n",
    "start_time = time.time()\n",
    "svc = SVC()\n",
    "fit_model = svc.fit(Xtrain, Ytrain)\n",
    "\n",
    "final_table_pres = final_table[final_table['para_name'].isin(test_pres)]\n",
    "y_pred = pd.DataFrame(svc.predict(Xtest), index=final_table_pres.index)\n",
    "\n",
    "tab = pd.crosstab(y_pred[0], Ytest)\n",
    "print(tab)\n",
    "success_count = 0\n",
    "for pres in test_pres:\n",
    "#    affiliation.append(pres[:3])    \n",
    "    pred_mat = y_pred[final_table_pres['para_name'] == pres]\n",
    "    total_dem = sum(1 for value in pred_mat[0] if value == 'dem')\n",
    "    frac_dem = total_dem / len(pred_mat)\n",
    "    if frac_dem > 0.5 and pres[:3] == 'dem':\n",
    "        success_count += 1\n",
    "    elif frac_dem < 0.5 and pres[:3] == 'rep':\n",
    "        success_count += 1\n",
    "\n",
    "success_rate = success_count / len(test_pres)     \n",
    "interval = time.time() - start_time\n",
    "\n",
    "print('Success rate in predicting party of President from Inaugural Speech: {}%'.format('%.1f' % (success_rate * 100)))  \n",
    "print('Time taken: {} minutes'.format('%.1f' % (interval / 60)))"
   ]
  },
  {
   "cell_type": "markdown",
   "metadata": {},
   "source": [
    "#### Paragraph by paragraph:"
   ]
  },
  {
   "cell_type": "code",
   "execution_count": 141,
   "metadata": {},
   "outputs": [
    {
     "name": "stdout",
     "output_type": "stream",
     "text": [
      "[ 0.56441718  0.56441718  0.5617284   0.56521739  0.56521739  0.56521739]\n",
      "\n",
      "Average accuracy of cross-val data (incl. train data): 0.5644\n",
      "SD of accuracy: 0.00123\n",
      "--------------------------------------------------\n",
      "\n",
      " Time taken: 5.8 minutes.\n"
     ]
    }
   ],
   "source": [
    "start_time = time.time()\n",
    "score = cross_val_score(svc, X, np.array(Y).ravel(), cv=6)\n",
    "print(score)\n",
    "print('\\nAverage accuracy of cross-val data (incl. train data): {}'.format('%.4f' %(sum(score)/len(score))))\n",
    "print('SD of accuracy: {}'.format('%.5f' % np.std(score)))\n",
    "print('-' * 50)\n",
    "print('\\n Time taken: {} minutes.'.format('%.1f' % ((time.time() - start_time) / 60)))"
   ]
  },
  {
   "cell_type": "markdown",
   "metadata": {},
   "source": [
    "### K Nearest Neighbors"
   ]
  },
  {
   "cell_type": "code",
   "execution_count": 128,
   "metadata": {},
   "outputs": [
    {
     "name": "stdout",
     "output_type": "stream",
     "text": [
      "which_party  dem  rep\n",
      "0                    \n",
      "rep           86  105\n",
      "Success rate in predicting party of President from Inaugural Speech: 57.1%\n",
      "Time taken: 0.2 minutes\n"
     ]
    }
   ],
   "source": [
    "from sklearn.neighbors import KNeighborsClassifier\n",
    "\n",
    "start_time = time.time()\n",
    "knn = KNeighborsClassifier(n_neighbors=250, weights='distance')\n",
    "\n",
    "#start_time = time.time()\n",
    "#svc = SVC()\n",
    "fit_model = knn.fit(Xtrain, Ytrain)\n",
    "\n",
    "final_table_pres = final_table[final_table['para_name'].isin(test_pres)]\n",
    "y_pred = pd.DataFrame(knn.predict(Xtest), index=final_table_pres.index)\n",
    "\n",
    "tab = pd.crosstab(y_pred[0], Ytest)\n",
    "print(tab)\n",
    "success_count = 0\n",
    "for pres in test_pres:\n",
    "#    affiliation.append(pres[:3])    \n",
    "    pred_mat = y_pred[final_table_pres['para_name'] == pres]\n",
    "    total_dem = sum(1 for value in pred_mat[0] if value == 'dem')\n",
    "    frac_dem = total_dem / len(pred_mat)\n",
    "    if frac_dem > 0.5 and pres[:3] == 'dem':\n",
    "        success_count += 1\n",
    "    elif frac_dem < 0.5 and pres[:3] == 'rep':\n",
    "        success_count += 1\n",
    "\n",
    "success_rate = success_count / len(test_pres)     \n",
    "interval = time.time() - start_time\n",
    "\n",
    "print('Success rate in predicting party of President from Inaugural Speech: {}%'.format('%.1f' % (success_rate * 100)))  \n",
    "print('Time taken: {} minutes'.format('%.1f' % (interval / 60)))"
   ]
  },
  {
   "cell_type": "markdown",
   "metadata": {},
   "source": [
    "#### Paragraph by paragraph:"
   ]
  },
  {
   "cell_type": "code",
   "execution_count": 142,
   "metadata": {},
   "outputs": [
    {
     "name": "stdout",
     "output_type": "stream",
     "text": [
      "[ 0.56441718  0.56441718  0.32098765  0.56521739  0.56521739  0.56521739]\n",
      "\n",
      "Average accuracy of cross-val data (incl. train data): 0.5242\n",
      "SD of accuracy: 0.09090\n",
      "--------------------------------------------------\n",
      "\n",
      " Time taken: 1.6 minutes.\n"
     ]
    }
   ],
   "source": [
    "start_time = time.time()\n",
    "score = cross_val_score(knn, X, np.array(Y).ravel(), cv=6)\n",
    "print(score)\n",
    "print('\\nAverage accuracy of cross-val data (incl. train data): {}'.format('%.4f' %(sum(score)/len(score))))\n",
    "print('SD of accuracy: {}'.format('%.5f' % np.std(score)))\n",
    "print('-' * 50)\n",
    "print('\\n Time taken: {} minutes.'.format('%.1f' % ((time.time() - start_time) / 60)))"
   ]
  },
  {
   "cell_type": "markdown",
   "metadata": {},
   "source": [
    "### Naive Bayes Classifier"
   ]
  },
  {
   "cell_type": "code",
   "execution_count": 127,
   "metadata": {},
   "outputs": [
    {
     "name": "stdout",
     "output_type": "stream",
     "text": [
      "which_party  dem  rep\n",
      "0                    \n",
      "dem           20   47\n",
      "rep           66   58\n",
      "Success rate in predicting party of President from Inaugural Speech: 42.9%\n",
      "Time taken: 5.2 minutes\n"
     ]
    }
   ],
   "source": [
    "# Our data is binary / boolean, so we're importing the Bernoulli classifier.\n",
    "from sklearn.naive_bayes import BernoulliNB\n",
    "\n",
    "# Instantiate our model and store it in a new variable.\n",
    "bnb = BernoulliNB()\n",
    "\n",
    "fit_model = bnb.fit(Xtrain, Ytrain)\n",
    "\n",
    "final_table_pres = final_table[final_table['para_name'].isin(test_pres)]\n",
    "y_pred = pd.DataFrame(bnb.predict(Xtest), index=final_table_pres.index)\n",
    "\n",
    "tab = pd.crosstab(y_pred[0], Ytest)\n",
    "print(tab)\n",
    "success_count = 0\n",
    "for pres in test_pres:\n",
    "#    affiliation.append(pres[:3])    \n",
    "    pred_mat = y_pred[final_table_pres['para_name'] == pres]\n",
    "    total_dem = sum(1 for value in pred_mat[0] if value == 'dem')\n",
    "    frac_dem = total_dem / len(pred_mat)\n",
    "    if frac_dem > 0.5 and pres[:3] == 'dem':\n",
    "        success_count += 1\n",
    "    elif frac_dem < 0.5 and pres[:3] == 'rep':\n",
    "        success_count += 1\n",
    "\n",
    "success_rate = success_count / len(test_pres)     \n",
    "interval = time.time() - start_time\n",
    "\n",
    "print('Success rate in predicting party of President from Inaugural Speech: {}%'.format('%.1f' % (success_rate * 100)))  \n",
    "print('Time taken: {} minutes'.format('%.1f' % (interval / 60)))"
   ]
  },
  {
   "cell_type": "markdown",
   "metadata": {},
   "source": [
    "#### Paragraph by paragraph"
   ]
  },
  {
   "cell_type": "code",
   "execution_count": 143,
   "metadata": {},
   "outputs": [
    {
     "name": "stdout",
     "output_type": "stream",
     "text": [
      "[ 0.65030675  0.68711656  0.40740741  0.34782609  0.55279503  0.48447205]\n",
      "\n",
      "Average accuracy of cross-val data (incl. train data): 0.5217\n",
      "SD of accuracy: 0.12217\n",
      "--------------------------------------------------\n",
      "\n",
      " Time taken: 0.4 minutes.\n"
     ]
    }
   ],
   "source": [
    "start_time = time.time()\n",
    "score = cross_val_score(bnb, X, np.array(Y).ravel(), cv=6)\n",
    "print(score)\n",
    "print('\\nAverage accuracy of cross-val data (incl. train data): {}'.format('%.4f' %(sum(score)/len(score))))\n",
    "print('SD of accuracy: {}'.format('%.5f' % np.std(score)))\n",
    "print('-' * 50)\n",
    "print('\\n Time taken: {} minutes.'.format('%.1f' % ((time.time() - start_time) / 60)))"
   ]
  }
 ],
 "metadata": {
  "kernelspec": {
   "display_name": "Python 3",
   "language": "python",
   "name": "python3"
  },
  "language_info": {
   "codemirror_mode": {
    "name": "ipython",
    "version": 3
   },
   "file_extension": ".py",
   "mimetype": "text/x-python",
   "name": "python",
   "nbconvert_exporter": "python",
   "pygments_lexer": "ipython3",
   "version": "3.6.2"
  }
 },
 "nbformat": 4,
 "nbformat_minor": 2
}
